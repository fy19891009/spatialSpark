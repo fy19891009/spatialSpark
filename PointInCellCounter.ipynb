{
 "cells": [
  {
   "cell_type": "code",
   "execution_count": 1,
   "metadata": {
    "collapsed": true
   },
   "outputs": [],
   "source": [
    "import notebook\n",
    "\n",
    "import os.path, json, io, pandas\n",
    "import matplotlib.pyplot as plt\n",
    "import matplotlib\n",
    "matplotlib.rcParams['figure.figsize'] = (16, 20)\n",
    "\n",
    "import pyspark.sql.functions as func # resuse as func.coalace for example\n",
    "from pyspark.sql.types import StringType, IntegerType, FloatType, DoubleType,DecimalType\n",
    "\n",
    "%matplotlib inline\n",
    "\n",
    "# make sure nbextensions are installed\n",
    "notebook.nbextensions.check_nbextension('usability/codefolding', user=True)\n",
    "\n",
    "try:\n",
    "    sc\n",
    "except NameError:\n",
    "    import pyspark\n",
    "    sc = pyspark.SparkContext('local[*]')\n",
    "    sqlContext = pyspark.sql.SQLContext(sc)"
   ]
  },
  {
   "cell_type": "code",
   "execution_count": 2,
   "metadata": {
    "collapsed": false
   },
   "outputs": [],
   "source": [
    "import pandas as pd\n",
    "import numpy as np\n",
    "\n",
    "BASE_DIR             = os.path.join(os.path.abspath('.'), 'work-flow')\n",
    "LASE_FILE            = os.path.join(BASE_DIR, 'test.csv')\n",
    "\n",
    "rdd = sc.textFile(LASE_FILE).map(lambda x: [float(element) for element in x.split(\",\")])\n",
    "df = sqlContext.createDataFrame(rdd)\n",
    "\n",
    "## If small enough can be loaded firstly in pandas df\n",
    "#pandas_df = pd.read_csv(LASE_FILE,  names = ['x','y','z'])\n",
    "#df = sqlContext.createDataFrame(pandas_df)"
   ]
  },
  {
   "cell_type": "code",
   "execution_count": 3,
   "metadata": {
    "collapsed": false
   },
   "outputs": [
    {
     "name": "stdout",
     "output_type": "stream",
     "text": [
      "Number of  Points:  214960\n",
      "root\n",
      " |-- _1: double (nullable = true)\n",
      " |-- _2: double (nullable = true)\n",
      " |-- _3: double (nullable = true)\n",
      "\n"
     ]
    }
   ],
   "source": [
    "print \"Number of  Points: \", df.count()\n",
    "df.printSchema()"
   ]
  },
  {
   "cell_type": "code",
   "execution_count": 4,
   "metadata": {
    "collapsed": false
   },
   "outputs": [
    {
     "name": "stdout",
     "output_type": "stream",
     "text": [
      "+------------------+-----------------+--------------+\n",
      "|                _1|               _2|            _3|\n",
      "+------------------+-----------------+--------------+\n",
      "| 5800905.972099781|545415.2531995773|104.7204971313|\n",
      "| 5800905.984600067|545415.2567996979| 104.720703125|\n",
      "| 5800905.995100021|545415.2587995529|104.7225036621|\n",
      "| 5800906.049499989|545415.2775001526|104.7197036743|\n",
      "| 5800906.064499855|545415.2827997208|104.7182006836|\n",
      "|  5800906.07859993|545415.2876996994| 104.717300415|\n",
      "| 5800906.011700153|545415.2660999298|104.7192001343|\n",
      "| 5800906.022399902| 545415.267999649|104.7211990356|\n",
      "| 5800906.037499905|545415.2741003036|  104.71900177|\n",
      "|  5800905.83190012|545415.2767000198|104.7247009277|\n",
      "| 5800905.841700077|545415.2782001495|104.7266998291|\n",
      "|  5800905.85559988|545415.2838001251|104.7249984741|\n",
      "| 5800905.867400169|545415.2870998383|104.7251968384|\n",
      "| 5800905.879700184|  545415.29129982|104.7247009277|\n",
      "| 5800906.120500088|545415.2311000824|104.7170028687|\n",
      "| 5800906.134399891|545415.2356996536|104.7163009644|\n",
      "| 5800906.150400162| 545415.242099762|104.7139968872|\n",
      "|5800906.1638998985|545415.2459001541| 104.714302063|\n",
      "| 5800906.178199768|545415.2505998611|104.7137985229|\n",
      "| 5800906.193500042|545415.2561998367|104.7123031616|\n",
      "+------------------+-----------------+--------------+\n",
      "only showing top 20 rows\n",
      "\n"
     ]
    }
   ],
   "source": [
    "df.show()"
   ]
  },
  {
   "cell_type": "code",
   "execution_count": 5,
   "metadata": {
    "collapsed": false
   },
   "outputs": [
    {
     "data": {
      "text/plain": [
       "'cell_-719_-617'"
      ]
     },
     "execution_count": 5,
     "metadata": {},
     "output_type": "execute_result"
    }
   ],
   "source": [
    "x0 = 5804500.0\n",
    "y0 = 548500.0\n",
    "r = 5.0\n",
    "\n",
    "def get_cell_key(x,y,z):\n",
    "    strx = int(np.floor( (x - x0) / r ))\n",
    "    stry = int(np.floor( (y - y0) / r ))\n",
    "    key = \"cell_%s_%s\" % (strx, stry)\n",
    "    return key\n",
    "\n",
    "# Test the function\n",
    "value = [5800905.972099781, 545415.2531995773, 104.7204971313]\n",
    "get_cell_key(*value)"
   ]
  },
  {
   "cell_type": "code",
   "execution_count": 6,
   "metadata": {
    "collapsed": false
   },
   "outputs": [],
   "source": [
    "sqlContext.udf.register(\"get_cell_key\", get_cell_key, StringType())\n",
    "\n",
    "# http://spark.apache.org/docs/latest/api/python/pyspark.sql.html#pyspark.sql.functions.udf\n",
    "# Creates a Column expression representing a user defined function (UDF).    \n",
    "get_cell_key_udf = func.udf(get_cell_key, StringType())\n",
    "\n",
    "ndf = df.select(\n",
    "    get_cell_key_udf(df._1,df._2,df._3).alias('cell_id')\n",
    ").groupBy(\"cell_id\").count()"
   ]
  },
  {
   "cell_type": "code",
   "execution_count": 7,
   "metadata": {
    "collapsed": false
   },
   "outputs": [
    {
     "name": "stdout",
     "output_type": "stream",
     "text": [
      "+--------------+-----+\n",
      "|       cell_id|count|\n",
      "+--------------+-----+\n",
      "|cell_-721_-616|   13|\n",
      "|cell_-719_-618|  194|\n",
      "|cell_-721_-617| 1531|\n",
      "|cell_-718_-616| 3146|\n",
      "|cell_-718_-615| 4713|\n",
      "|cell_-719_-617|26531|\n",
      "|cell_-720_-615|27472|\n",
      "|cell_-719_-615|30927|\n",
      "|cell_-719_-616|33972|\n",
      "|cell_-720_-616|42846|\n",
      "|cell_-720_-617|43615|\n",
      "+--------------+-----+\n",
      "\n"
     ]
    }
   ],
   "source": [
    "ndf.sort(\"count\").show()"
   ]
  },
  {
   "cell_type": "code",
   "execution_count": null,
   "metadata": {
    "collapsed": true
   },
   "outputs": [],
   "source": []
  }
 ],
 "metadata": {
  "kernelspec": {
   "display_name": "Python 2",
   "language": "python",
   "name": "python2"
  },
  "language_info": {
   "codemirror_mode": {
    "name": "ipython",
    "version": 2
   },
   "file_extension": ".py",
   "mimetype": "text/x-python",
   "name": "python",
   "nbconvert_exporter": "python",
   "pygments_lexer": "ipython2",
   "version": "2.7.12"
  },
  "widgets": {
   "state": {},
   "version": "1.1.2"
  }
 },
 "nbformat": 4,
 "nbformat_minor": 0
}
