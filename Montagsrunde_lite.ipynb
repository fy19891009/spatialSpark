{
 "cells": [
  {
   "cell_type": "markdown",
   "metadata": {
    "toc": "true"
   },
   "source": [
    "# Learning Spark - Demos\n",
    "### Yu Feng\n",
    "---"
   ]
  },
  {
   "cell_type": "markdown",
   "metadata": {},
   "source": [
    "### Environment Variables Setting"
   ]
  },
  {
   "cell_type": "code",
   "execution_count": 1,
   "metadata": {
    "collapsed": true
   },
   "outputs": [],
   "source": [
    "import os\n",
    "import sys\n",
    "\n",
    "def configure_spark(spark_home=None, pyspark_python=None):\n",
    "    spark_home = spark_home or \"/usr/local/spark\"\n",
    "    os.environ['SPARK_HOME'] = spark_home\n",
    "    \n",
    "    # Add the PySpark directories to the Python path:\n",
    "    sys.path.insert(1, os.path.join(spark_home, 'python'))\n",
    "    sys.path.insert(1, os.path.join(spark_home, 'python', 'build'))\n",
    "    sys.path.insert(1, os.path.join(spark_home, 'python', 'lib','pyspark.zip'))\n",
    "    sys.path.insert(1, os.path.join(spark_home, 'python', 'lib','py4j-0.10.1-src.zip'))\n",
    "    \n",
    "    os.environ['PYTHONPATH'] = os.path.join(spark_home, 'python', 'lib','py4j-0.10.1-src.zip')\n",
    "    \n",
    "    # If PySpark isn't specified, use currently running Python binary:\n",
    "    pyspark_python = pyspark_python or sys.executable\n",
    "    os.environ['PYSPARK_PYTHON'] = pyspark_python\n",
    "\n",
    "configure_spark()"
   ]
  },
  {
   "cell_type": "code",
   "execution_count": 2,
   "metadata": {
    "collapsed": false
   },
   "outputs": [],
   "source": [
    "os.environ['JAVA_HOME'] = \"/usr/lib/jvm/java-1.7.0-openjdk-amd64\""
   ]
  },
  {
   "cell_type": "markdown",
   "metadata": {},
   "source": [
    "# Demo 1: Programming with RDDs\n",
    "\n",
    "The most traditional tasks for Spark"
   ]
  },
  {
   "cell_type": "code",
   "execution_count": 3,
   "metadata": {
    "collapsed": false
   },
   "outputs": [],
   "source": [
    "from pyspark import SparkConf, SparkContext\n",
    "\n",
    "conf = SparkConf().setMaster(\"local\").setAppName(\"My App\") \n",
    "sc = SparkContext(conf = conf)"
   ]
  },
  {
   "cell_type": "markdown",
   "metadata": {},
   "source": [
    "## RDD (resilient distributed dataset)\n",
    "* Spilt into multiple partitions\n",
    "* Be computed on different nodes of the cluster"
   ]
  },
  {
   "cell_type": "code",
   "execution_count": 4,
   "metadata": {
    "collapsed": false
   },
   "outputs": [],
   "source": [
    "# Create an RDD from external dataset\n",
    "lines = sc.textFile(\"alice30.txt\") "
   ]
  },
  {
   "cell_type": "code",
   "execution_count": 5,
   "metadata": {
    "collapsed": true
   },
   "outputs": [],
   "source": [
    "# Create an RDD from an existing colleciton\n",
    "localLines = sc.parallelize([\"pandas\", \"i like pandas\"]) "
   ]
  },
  {
   "cell_type": "markdown",
   "metadata": {},
   "source": [
    "## RRD Operations: Actions and Transformation\n",
    "\n",
    "### - Actions: compute results based on RDD, return it to driver program or save it to external storage system (e.g. HDFS)\n",
    "\n",
    "* .count() - Count the number of items in this RDD\n",
    "* .first() - First item in this RDD\n",
    "* .take() - Return first n lines \n",
    "* .collect() - Return all lines, should not used in large datasets\n",
    "* .reduce()"
   ]
  },
  {
   "cell_type": "code",
   "execution_count": 6,
   "metadata": {
    "collapsed": false
   },
   "outputs": [
    {
     "name": "stdout",
     "output_type": "stream",
     "text": [
      "3599\n",
      "                ALICE'S ADVENTURES IN WONDERLAND\n"
     ]
    }
   ],
   "source": [
    "print lines.count()\n",
    "print lines.first()"
   ]
  },
  {
   "cell_type": "code",
   "execution_count": 7,
   "metadata": {
    "collapsed": false
   },
   "outputs": [
    {
     "name": "stdout",
     "output_type": "stream",
     "text": [
      "                ALICE'S ADVENTURES IN WONDERLAND\n",
      "\n",
      "                          Lewis Carroll\n",
      "\n",
      "               THE MILLENNIUM FULCRUM EDITION 3.0\n",
      "\n",
      "\n",
      "\n",
      "\n",
      "                            CHAPTER I\n"
     ]
    }
   ],
   "source": [
    "for line in lines.take(10): \n",
    "    print line"
   ]
  },
  {
   "cell_type": "code",
   "execution_count": 8,
   "metadata": {
    "collapsed": false
   },
   "outputs": [
    {
     "name": "stdout",
     "output_type": "stream",
     "text": [
      "10\n"
     ]
    }
   ],
   "source": [
    "nums = sc.parallelize([1, 2, 3, 4]) \n",
    "sum = nums.reduce(lambda x, y: x + y)\n",
    "print sum "
   ]
  },
  {
   "cell_type": "markdown",
   "metadata": {},
   "source": [
    "### - Transformation: construct a new RDD from a previous one\n",
    "\n",
    "* .filter() - takes a funtion and return the elements fulfill the requirements\n",
    "* .map() - takes a function and return new values for each elements\n",
    "* .distinct(), .union(), .intersection(), .substract() - mathematical sets"
   ]
  },
  {
   "cell_type": "markdown",
   "metadata": {},
   "source": [
    "![Image1](images/mathsetop.PNG)"
   ]
  },
  {
   "cell_type": "code",
   "execution_count": 9,
   "metadata": {
    "collapsed": false,
    "scrolled": true
   },
   "outputs": [
    {
     "name": "stdout",
     "output_type": "stream",
     "text": [
      "74\n"
     ]
    }
   ],
   "source": [
    "# Return an entire new RDD\n",
    "pythonLines = lines.filter(lambda line: \"Queen\" in line)\n",
    "\n",
    "#for line in pythonLines.collect():\n",
    "#    print line\n",
    "\n",
    "print pythonLines.count()"
   ]
  },
  {
   "cell_type": "code",
   "execution_count": 10,
   "metadata": {
    "collapsed": false
   },
   "outputs": [
    {
     "name": "stdout",
     "output_type": "stream",
     "text": [
      "136\n"
     ]
    }
   ],
   "source": [
    "kingLines = lines.filter(lambda line: \"King\" in line)\n",
    "king_queen_lines = pythonLines.union(kingLines)\n",
    "\n",
    "print king_queen_lines.count()"
   ]
  },
  {
   "cell_type": "code",
   "execution_count": 11,
   "metadata": {
    "collapsed": false
   },
   "outputs": [
    {
     "name": "stdout",
     "output_type": "stream",
     "text": [
      "62\n"
     ]
    }
   ],
   "source": [
    "def containsKing(s):\n",
    "    return \"King\" in s\n",
    "\n",
    "kingLines = lines.filter(containsKing)\n",
    "print kingLines.count()"
   ]
  },
  {
   "cell_type": "code",
   "execution_count": 12,
   "metadata": {
    "collapsed": false
   },
   "outputs": [
    {
     "name": "stdout",
     "output_type": "stream",
     "text": [
      "[1, 4, 9, 16]\n"
     ]
    }
   ],
   "source": [
    "nums = sc.parallelize([1, 2, 3, 4]) \n",
    "squared = nums.map(lambda x: x * x).collect() \n",
    "print squared"
   ]
  },
  {
   "cell_type": "code",
   "execution_count": 13,
   "metadata": {
    "collapsed": true
   },
   "outputs": [],
   "source": [
    "sc.stop() "
   ]
  },
  {
   "cell_type": "markdown",
   "metadata": {
    "collapsed": true
   },
   "source": [
    "# Demo 2: Programming with DataFrame\n",
    "\n",
    "DataFrame performs much faster than RDDs\n",
    "\n",
    "## DataFrames\n",
    "similar to traditional database"
   ]
  },
  {
   "cell_type": "markdown",
   "metadata": {
    "collapsed": true
   },
   "source": [
    "![Image2](images/dataframes-faster.png)"
   ]
  },
  {
   "cell_type": "code",
   "execution_count": 14,
   "metadata": {
    "collapsed": true
   },
   "outputs": [],
   "source": [
    "from pyspark.sql import SparkSession\n",
    "\n",
    "spark = SparkSession \\\n",
    "    .builder \\\n",
    "    .appName(\"Python Spark SQL basic example\") \\\n",
    "    .config(\"spark.some.config.option\", \"some-value\") \\\n",
    "    .getOrCreate()"
   ]
  },
  {
   "cell_type": "code",
   "execution_count": 15,
   "metadata": {
    "collapsed": false,
    "scrolled": true
   },
   "outputs": [
    {
     "name": "stdout",
     "output_type": "stream",
     "text": [
      "Total: 3118\n",
      "+---------+-----------+--------------------+-----+--------------------+\n",
      "| Latitude|  Longitude|                Time|Label|            Location|\n",
      "+---------+-----------+--------------------+-----+--------------------+\n",
      "|55.864237|  -4.251806|Mon Oct 05 08:20:...|    1|   Glasgow  Scotland|\n",
      "|33.748995| -84.387982|Mon Oct 05 08:20:...|    1|         Atlanta  GA|\n",
      "|33.448377|-112.074037|Mon Oct 05 08:20:...|    1|     Phoenix Arizona|\n",
      "|34.000710| -81.034814|Mon Oct 05 08:20:...|    1|Columbia  South C...|\n",
      "|40.569789| -79.764770|Mon Oct 05 08:20:...|    1|  New Kensington  PA|\n",
      "|33.748995| -84.387982|Mon Oct 05 08:20:...|    1|         Atlanta  GA|\n",
      "|35.689197|  51.388974|Mon Oct 05 08:20:...|    1|         IRAN TEHRAN|\n",
      "|35.125801|-117.985904|Mon Oct 05 08:20:...|    1|  California City CA|\n",
      "|51.621440|  -3.943646|Mon Oct 05 08:20:...|    1|             swansea|\n",
      "|33.748995| -84.387982|Mon Oct 05 08:20:...|    1|   Atlanta  GA      |\n",
      "+---------+-----------+--------------------+-----+--------------------+\n",
      "only showing top 10 rows\n",
      "\n"
     ]
    }
   ],
   "source": [
    "# spark is an existing SparkSession\n",
    "df = spark.read.csv(\"work-flow/tweet.csv\", header=True)\n",
    "# Displays the content of the DataFrame to stdout\n",
    "print 'Total: %d' % df.count()\n",
    "df.show(10)"
   ]
  },
  {
   "cell_type": "code",
   "execution_count": 16,
   "metadata": {
    "collapsed": false
   },
   "outputs": [
    {
     "name": "stdout",
     "output_type": "stream",
     "text": [
      "root\n",
      " |-- Latitude: string (nullable = true)\n",
      " |-- Longitude: string (nullable = true)\n",
      " |-- Time: string (nullable = true)\n",
      " |-- Label: string (nullable = true)\n",
      " |-- Location: string (nullable = true)\n",
      "\n"
     ]
    }
   ],
   "source": [
    "# spark, df are from the previous example\n",
    "# Print the schema in a tree format\n",
    "df.printSchema()"
   ]
  },
  {
   "cell_type": "code",
   "execution_count": 17,
   "metadata": {
    "collapsed": false,
    "scrolled": false
   },
   "outputs": [
    {
     "name": "stdout",
     "output_type": "stream",
     "text": [
      "+--------------------+\n",
      "|            Location|\n",
      "+--------------------+\n",
      "|   Glasgow  Scotland|\n",
      "|         Atlanta  GA|\n",
      "|     Phoenix Arizona|\n",
      "|Columbia  South C...|\n",
      "|  New Kensington  PA|\n",
      "|         Atlanta  GA|\n",
      "|         IRAN TEHRAN|\n",
      "|  California City CA|\n",
      "|             swansea|\n",
      "|   Atlanta  GA      |\n",
      "|Vila   Velha   ES...|\n",
      "|             USA  ma|\n",
      "|         IRAN TEHRAN|\n",
      "|         Phoenix  AZ|\n",
      "|              Lagos |\n",
      "| Cavite  Philippines|\n",
      "|      Barrington  RI|\n",
      "|               Miami|\n",
      "|                U.K.|\n",
      "|      Patiala Punjab|\n",
      "+--------------------+\n",
      "only showing top 20 rows\n",
      "\n"
     ]
    }
   ],
   "source": [
    "# Select only the \"Location\" column\n",
    "df.select('Location').show()"
   ]
  },
  {
   "cell_type": "code",
   "execution_count": 18,
   "metadata": {
    "collapsed": false,
    "scrolled": false
   },
   "outputs": [
    {
     "name": "stdout",
     "output_type": "stream",
     "text": [
      "+--------------------+-----+\n",
      "|            Location|count|\n",
      "+--------------------+-----+\n",
      "|              London|   86|\n",
      "|        Columbia  SC|   34|\n",
      "|Querétaro Arteaga...|   26|\n",
      "|Florence  South C...|   25|\n",
      "|        New York  NY|   24|\n",
      "|    Myrtle Beach  SC|   24|\n",
      "|         Atlanta  GA|   24|\n",
      "|      Wilmington  NC|   22|\n",
      "|       Charlotte  NC|   22|\n",
      "|         Norfolk  VA|   20|\n",
      "|      Charleston  SC|   18|\n",
      "|      South Carolina|   18|\n",
      "|          Birmingham|   17|\n",
      "|               World|   17|\n",
      "|     London  England|   17|\n",
      "|         Houston  TX|   16|\n",
      "| Manchester  England|   15|\n",
      "|        Greenbelt MD|   15|\n",
      "|               Earth|   15|\n",
      "|      Lagos  Nigeria|   14|\n",
      "+--------------------+-----+\n",
      "only showing top 20 rows\n",
      "\n"
     ]
    }
   ],
   "source": [
    "# Count people by Location\n",
    "df.groupBy('Location').count().sort('count', ascending=False).show()"
   ]
  },
  {
   "cell_type": "code",
   "execution_count": 19,
   "metadata": {
    "collapsed": false,
    "scrolled": false
   },
   "outputs": [
    {
     "name": "stdout",
     "output_type": "stream",
     "text": [
      "+---------+----------+--------------------+-----+-------------------+\n",
      "| Latitude| Longitude|                Time|Label|           Location|\n",
      "+---------+----------+--------------------+-----+-------------------+\n",
      "|53.480759| -2.242631|Mon Oct 05 08:21:...|    1|Manchester  England|\n",
      "|53.480759| -2.242631|Mon Oct 05 08:22:...|    1|Manchester  England|\n",
      "|53.480759| -2.242631|Mon Oct 05 08:22:...|    1|Manchester  England|\n",
      "|53.480759| -2.242631|Mon Oct 05 08:23:...|    1|Manchester  England|\n",
      "|53.480759| -2.242631|Mon Oct 05 08:24:...|    1|Manchester  England|\n",
      "|53.480759| -2.242631|Mon Oct 05 08:28:...|    1|Manchester  England|\n",
      "|53.480759| -2.242631|Mon Oct 05 08:30:...|    1|Manchester  England|\n",
      "|53.480759| -2.242631|Mon Oct 05 08:32:...|    1|Manchester  England|\n",
      "|53.480759| -2.242631|Mon Oct 05 08:33:...|    1|Manchester  England|\n",
      "|53.480759| -2.242631|Mon Oct 05 08:33:...|    1|Manchester  England|\n",
      "|53.480759| -2.242631|Mon Oct 05 08:34:...|    1|Manchester  England|\n",
      "|53.480759| -2.242631|Mon Oct 05 08:42:...|    1|Manchester  England|\n",
      "|53.480759| -2.242631|Mon Oct 05 08:43:...|    1|Manchester  England|\n",
      "|53.480759| -2.242631|Mon Oct 05 09:11:...|    1|Manchester  England|\n",
      "|-5.398840|105.242250|Mon Oct 05 12:18:...|    2|Manchester  England|\n",
      "+---------+----------+--------------------+-----+-------------------+\n",
      "\n",
      "+---------+----------+--------------------+-----+-------------------+\n",
      "| Latitude| Longitude|                Time|Label|           Location|\n",
      "+---------+----------+--------------------+-----+-------------------+\n",
      "|53.480759| -2.242631|Mon Oct 05 08:21:...|    1|Manchester  England|\n",
      "|53.480759| -2.242631|Mon Oct 05 08:22:...|    1|Manchester  England|\n",
      "|53.480759| -2.242631|Mon Oct 05 08:22:...|    1|Manchester  England|\n",
      "|53.480759| -2.242631|Mon Oct 05 08:23:...|    1|Manchester  England|\n",
      "|53.480759| -2.242631|Mon Oct 05 08:24:...|    1|Manchester  England|\n",
      "|53.480759| -2.242631|Mon Oct 05 08:28:...|    1|Manchester  England|\n",
      "|53.480759| -2.242631|Mon Oct 05 08:30:...|    1|Manchester  England|\n",
      "|53.480759| -2.242631|Mon Oct 05 08:32:...|    1|Manchester  England|\n",
      "|53.480759| -2.242631|Mon Oct 05 08:33:...|    1|Manchester  England|\n",
      "|53.480759| -2.242631|Mon Oct 05 08:33:...|    1|Manchester  England|\n",
      "|53.480759| -2.242631|Mon Oct 05 08:34:...|    1|Manchester  England|\n",
      "|53.480759| -2.242631|Mon Oct 05 08:42:...|    1|Manchester  England|\n",
      "|53.480759| -2.242631|Mon Oct 05 08:43:...|    1|Manchester  England|\n",
      "|53.480759| -2.242631|Mon Oct 05 09:11:...|    1|Manchester  England|\n",
      "|-5.398840|105.242250|Mon Oct 05 12:18:...|    2|Manchester  England|\n",
      "+---------+----------+--------------------+-----+-------------------+\n",
      "\n",
      "+---------+----------+--------------------+-----+-------------------+\n",
      "| Latitude| Longitude|                Time|Label|           Location|\n",
      "+---------+----------+--------------------+-----+-------------------+\n",
      "|53.480759| -2.242631|Mon Oct 05 08:21:...|    1|Manchester  England|\n",
      "|53.480759| -2.242631|Mon Oct 05 08:22:...|    1|Manchester  England|\n",
      "|53.480759| -2.242631|Mon Oct 05 08:22:...|    1|Manchester  England|\n",
      "|53.480759| -2.242631|Mon Oct 05 08:23:...|    1|Manchester  England|\n",
      "|53.480759| -2.242631|Mon Oct 05 08:24:...|    1|Manchester  England|\n",
      "|53.480759| -2.242631|Mon Oct 05 08:28:...|    1|Manchester  England|\n",
      "|53.480759| -2.242631|Mon Oct 05 08:30:...|    1|Manchester  England|\n",
      "|53.480759| -2.242631|Mon Oct 05 08:32:...|    1|Manchester  England|\n",
      "|53.480759| -2.242631|Mon Oct 05 08:33:...|    1|Manchester  England|\n",
      "|53.480759| -2.242631|Mon Oct 05 08:33:...|    1|Manchester  England|\n",
      "|53.480759| -2.242631|Mon Oct 05 08:34:...|    1|Manchester  England|\n",
      "|53.480759| -2.242631|Mon Oct 05 08:42:...|    1|Manchester  England|\n",
      "|53.480759| -2.242631|Mon Oct 05 08:43:...|    1|Manchester  England|\n",
      "|53.480759| -2.242631|Mon Oct 05 09:11:...|    1|Manchester  England|\n",
      "|-5.398840|105.242250|Mon Oct 05 12:18:...|    2|Manchester  England|\n",
      "+---------+----------+--------------------+-----+-------------------+\n",
      "\n"
     ]
    }
   ],
   "source": [
    "# Select by location\n",
    "df.filter(df['Location'] == 'Manchester  England').show()\n",
    "\n",
    "# Pandas-like syntax\n",
    "df[df['Location'] == 'Manchester  England'].show()\n",
    "\n",
    "# Register the DataFrame as a SQL temporary view\n",
    "df.createOrReplaceTempView(\"spatialdata\")\n",
    "sqlDF = spark.sql(\"SELECT * FROM spatialdata WHERE Location == 'Manchester  England' \")\n",
    "sqlDF.show()"
   ]
  },
  {
   "cell_type": "code",
   "execution_count": 20,
   "metadata": {
    "collapsed": false
   },
   "outputs": [
    {
     "name": "stdout",
     "output_type": "stream",
     "text": [
      "Pandas Dataframe: \n",
      "Latitude     object\n",
      "Longitude    object\n",
      "Time         object\n",
      "Label        object\n",
      "Location     object\n",
      "dtype: object\n",
      "Spark Dataframe: \n",
      "DataFrame[Latitude: string, Longitude: string, Time: string, Label: string, Location: string]\n"
     ]
    }
   ],
   "source": [
    "# Convert Spark DataFrame to Pandas\n",
    "pandas_df = df.toPandas()\n",
    "print 'Pandas Dataframe: '\n",
    "print pandas_df.dtypes\n",
    "\n",
    "# Create a Spark DataFrame from Pandas\n",
    "spark_df = spark.createDataFrame(pandas_df)\n",
    "print 'Spark Dataframe: '\n",
    "print spark_df"
   ]
  },
  {
   "cell_type": "code",
   "execution_count": 21,
   "metadata": {
    "collapsed": true
   },
   "outputs": [],
   "source": [
    "spark.stop()"
   ]
  },
  {
   "cell_type": "markdown",
   "metadata": {},
   "source": [
    "# Demo 3\n",
    "\n",
    "## Goal\n",
    "Find the city with the most cultural infrastructures in Europe\n",
    "\n",
    "## Data\n",
    "\n",
    "##### 1. Boundaries/Urban footprints of some of the largest cities in Europe along with the total population for 2013 for those urban areas.\n",
    "\n",
    "Download 2013 population data for European cities. http://bit.ly/eurostat-urban-audit-database \n",
    "\n",
    "##### 2. OpenStreetMap points of interests that have culturally relevant tags\n",
    "\n",
    "Tag | Score\n",
    ":--: | :--:\n",
    "tourism\"=\"artwork\" | 5\n",
    "tourism\"=\"gallery\" | 4\n",
    "amenity\"=\"theatre\" | 3\n",
    "amenity\"=\"arts_centre\" | 2\n",
    "tourism\"=\"museum\" | 1\n",
    "\n",
    "\n",
    "## Tools\n",
    "\n",
    "#### 1. PySpark"
   ]
  },
  {
   "cell_type": "markdown",
   "metadata": {},
   "source": [
    "## Table of Contents\n",
    " <p><div class=\"lev1\"><a href=\"#The-Data\"><span class=\"toc-item-num\">1&nbsp;&nbsp;</span>The Data</a></div><div class=\"lev2\"><a href=\"#EuroStat\"><span class=\"toc-item-num\">1.1&nbsp;&nbsp;</span>EuroStat</a></div><div class=\"lev3\"><a href=\"#Exercise:-Getting-Spatial-Boundary-Data\"><span class=\"toc-item-num\">1.1.1&nbsp;&nbsp;</span>Exercise: Getting Spatial Boundary Data</a></div><div class=\"lev2\"><a href=\"#OpenStreetMap/Overpass-API\"><span class=\"toc-item-num\">1.2&nbsp;&nbsp;</span>OpenStreetMap/Overpass API</a></div><div class=\"lev3\"><a href=\"#Exercise:-Getting-to-know-OSM-Data\"><span class=\"toc-item-num\">1.2.1&nbsp;&nbsp;</span>Exercise: Getting to know OSM Data</a></div><div class=\"lev1\"><a href=\"#What-are-we-going-to-do?\"><span class=\"toc-item-num\">2&nbsp;&nbsp;</span>What are we going to do?</a></div><div class=\"lev2\"><a href=\"#What-do-we-mean-by-culture/cultural-score?\"><span class=\"toc-item-num\">2.1&nbsp;&nbsp;</span>What do we mean by culture/cultural score?</a></div><div class=\"lev1\"><a href=\"#GeoPandas\"><span class=\"toc-item-num\">3&nbsp;&nbsp;</span>GeoPandas</a></div><div class=\"lev2\"><a href=\"#OGC-SimpleFeatures\"><span class=\"toc-item-num\">3.1&nbsp;&nbsp;</span>OGC SimpleFeatures</a></div><div class=\"lev3\"><a href=\"#WKT/WKB:-Well-Known-Text-and-Well-Known-Binary\"><span class=\"toc-item-num\">3.1.1&nbsp;&nbsp;</span>WKT/WKB: Well Known Text and Well Known Binary</a></div><div class=\"lev3\"><a href=\"#Implications-for-PySpark-data-de/serialization-&amp;-un/marshalling\"><span class=\"toc-item-num\">3.1.2&nbsp;&nbsp;</span>Implications for PySpark data de/serialization &amp; un/marshalling</a></div><div class=\"lev2\"><a href=\"#Exercise:\"><span class=\"toc-item-num\">3.2&nbsp;&nbsp;</span>Exercise:</a></div><div class=\"lev2\"><a href=\"#Create-a-pyspark-dataframe-from-GeoPanadas\"><span class=\"toc-item-num\">3.3&nbsp;&nbsp;</span>Create a pyspark dataframe from GeoPanadas</a></div><div class=\"lev3\"><a href=\"#Exercise\"><span class=\"toc-item-num\">3.3.1&nbsp;&nbsp;</span>Exercise</a></div><div class=\"lev1\"><a href=\"#Lets-look-at-the-POI-data-next\"><span class=\"toc-item-num\">4&nbsp;&nbsp;</span>Lets look at the POI data next</a></div><div class=\"lev1\"><a href=\"#Count-the-number-of-museums-in-Zurich\"><span class=\"toc-item-num\">5&nbsp;&nbsp;</span>Count the number of museums in Zurich</a></div><div class=\"lev2\"><a href=\"#Exercise\"><span class=\"toc-item-num\">5.1&nbsp;&nbsp;</span>Exercise</a></div><div class=\"lev1\"><a href=\"#SQL-is-nice-but...\"><span class=\"toc-item-num\">6&nbsp;&nbsp;</span>SQL is nice but...</a></div><div class=\"lev1\"><a href=\"#Joins,-Spatial-Predicate,-Broadcast-Variables,-UDFs\"><span class=\"toc-item-num\">7&nbsp;&nbsp;</span>Joins, Spatial Predicate, Broadcast Variables, UDFs</a></div><div class=\"lev2\"><a href=\"#Grouping\"><span class=\"toc-item-num\">7.1&nbsp;&nbsp;</span>Grouping</a></div><div class=\"lev2\"><a href=\"#Adding-population-column\"><span class=\"toc-item-num\">7.2&nbsp;&nbsp;</span>Adding population column</a></div><div class=\"lev2\"><a href=\"#Calculating-the-score\"><span class=\"toc-item-num\">7.3&nbsp;&nbsp;</span>Calculating the score</a></div><div class=\"lev1\"><a href=\"#Spatial-Spark\"><span class=\"toc-item-num\">8&nbsp;&nbsp;</span>Spatial Spark</a></div><div class=\"lev2\"><a href=\"#Spatial-Partition\"><span class=\"toc-item-num\">8.1&nbsp;&nbsp;</span>Spatial Partition</a></div><div class=\"lev2\"><a href=\"#Spatial-Range-Query\"><span class=\"toc-item-num\">8.2&nbsp;&nbsp;</span>Spatial Range Query</a></div><div class=\"lev1\"><a href=\"#Perform-Analysis-on-All-Features-and-All-Cities\"><span class=\"toc-item-num\">9&nbsp;&nbsp;</span>Perform Analysis on All Features and All Cities</a></div>"
   ]
  },
  {
   "cell_type": "code",
   "execution_count": 22,
   "metadata": {
    "collapsed": false
   },
   "outputs": [],
   "source": [
    "import notebook\n",
    "\n",
    "import os.path, json, io, pandas\n",
    "import matplotlib.pyplot as plt\n",
    "import matplotlib\n",
    "matplotlib.rcParams['figure.figsize'] = (16, 20)\n",
    "\n",
    "from retrying import retry # for exponential back down when calling TurboOverdrive API\n",
    "\n",
    "import pyspark.sql.functions as func # resuse as func.coalace for example\n",
    "from pyspark.sql.types import StringType, IntegerType, FloatType, DoubleType,DecimalType\n",
    "\n",
    "from geopandas import GeoDataFrame # Loading Boundries Data\n",
    "from shapely.geometry import Point, Polygon, shape # creating geospatial data\n",
    "from shapely import wkb, wkt # creating and parsing geospatial data\n",
    "import overpy # OpenStreetMap API\n",
    "\n",
    "%matplotlib inline\n",
    "\n",
    "# make sure nbextensions are installed\n",
    "notebook.nbextensions.check_nbextension('usability/codefolding', user=True)\n",
    "\n",
    "\n",
    "import pyspark\n",
    "sc = pyspark.SparkContext('local[*]')\n",
    "sqlContext = pyspark.sql.SQLContext(sc)"
   ]
  },
  {
   "cell_type": "markdown",
   "metadata": {},
   "source": [
    "\n",
    "\n",
    "## EuroStat\n",
    "\n",
    "European Commission's agency \"Eurostat\" conducted a Cities (Urban Audit) which is a Data Database containing detailed year-by-year statistics based on objective measurements. They have an incredibly rich and valuable database. The data set we are using defines cities in terms of two distinct areas (with possibly a third area - \"Kernel\" - for large cities like London and Paris). The regions are \"Core City\" and \"Large Urban Zone\". There is a great article that explains this in detail (Cities explained by EuroStat)[http://ec.europa.eu/eurostat/statistics-explained/index.php/European_cities_-_spatial_dimension] This is extremely important for our analysis as we want to do spatial analysis bounded by a well defined region whose population can be reliable defined. The EuroStat Database will give us this.\n",
    "\n",
    "### Exercise: Getting Spatial Boundary Data\n",
    "\n",
    "Just spend 5 minutes looking at the database for Urban Audit and try to download 2013 population data for European cities. http://bit.ly/eurostat-urban-audit-database WARNING: you can get lost on their website and emerge 2 hours later wondering where all the time went.\n",
    "\n",
    "## OpenStreetMap/Overpass API\n",
    "\n",
    "For the Cultural data we are going to use OpenStreetMap. Now there are many ways to obtain OSM data. we will use the Overpass Turbo. Overpass turbo is a web based data mining tool for OpenStreetMap. You find it at http://overpass-turbo.eu. It runs any kind of Overpass API query and shows the results on an interactive map. The source code is found on https://github.com/tyrasd/overpass-turbo. A huge thanks goes to Roland who created the Overpass API, without which this tool wouldn't exist. The Overpass API (formerly known as OSM Server Side Scripting, or OSM3S) is a read-only API that serves up custom selected parts of the OSM map data. It acts as a database over the web: the client sends a query to the API and gets back the data set that corresponds to the query. Unlike the main API, which is optimized for editing, Overpass API is optimized for data consumers that need a few elements within a glimpse or up to roughly 100 million elements in some minutes, both selected by search criteria like e.g. location, type of objects, tag properties, proximity, or combinations of them. It acts as a database backend for various services. See [Overpass API Wiki page](http://wiki.openstreetmap.org/wiki/Overpass_API) for more details.\n",
    "\n",
    "We will use Overpass API to download POI data of cultural relevance. To understand the Overpass API have a look at the quick Overpass query language guide here: http://wiki.openstreetmap.org/wiki/Overpass_API/Language_Guide \n",
    "\n",
    "### Exercise: Getting to know OSM Data\n",
    "\n",
    "Just spend 5-10 minutes looking at Overpass API. Try to Query datasets like all the museums. To gain a better understanding of the OSM Tags and meanings behind them look at the Tag Features Wiki pages via Tag Info Website: http://taginfo.openstreetmap.org/keys If you are interested in reading more about a key you can click on it then go to wiki tab an click on the wiki page in your language of choice. *Hint* there is a link to the Turbo Overpass page on the site too.\n",
    "\n",
    "\n",
    "# What are we going to do?\n",
    "\n",
    "We will build a data processing pipeline that takes our data sources performs aggregations by precise boundaries. Then run a weighted algorithm to calculate a \"cultural\" score for each city normalized by its total population. So the pipeline is something like this:\n",
    "\n",
    "![](images/sketch.png)\n",
    "\n",
    "## What do we mean by culture/cultural score?\n",
    "\n",
    "This is a completely subjective and our algorithm is therefore only meant as an excuse to have fun learning PySpark and Spatial Analysis. We collect data from OpenStreetMap that seems culturally relevant. These include the following tags:\n",
    "\n",
    "    tourism\"=\"artwork\"\n",
    "    tourism\"=\"gallery\"\n",
    "    amenity\"=\"theatre\"\n",
    "    amenity\"=\"arts_centre\"\n",
    "    tourism\"=\"museum\"\n",
    "\n",
    "We will also assign different weights to each tag. From 1 to 5. The tags above are listed from highest (artwork) to lowest (museum). This should make our analysis interesting. We will calculate a score by performing a weighted count for each of the sites found per city. Finally we will normalize our count by dividing it by the total population of the city."
   ]
  },
  {
   "cell_type": "code",
   "execution_count": 23,
   "metadata": {
    "code_folding": [
     3,
     7,
     23
    ],
    "collapsed": true
   },
   "outputs": [],
   "source": [
    "### Helper functions\n",
    "\n",
    "# given shapely bounds return bbox compatiable with overpass turbo openstreetmap API\n",
    "def bbox(bounds):\n",
    "    return (bounds[1],bounds[0],bounds[3],bounds[2])\n",
    "\n",
    "# given an openstreetmap node retrun a GeoJSON feature\n",
    "def nodeToFeature(node):\n",
    "    properties = node.tags\n",
    "    properties['wkt'] = Point(node.lon, node.lat).wkt\n",
    "    return {\n",
    "        \"type\": \"Feature\",\n",
    "        \"properties\": properties,\n",
    "        \"geometry\": {\n",
    "            \"type\": \"Point\",\n",
    "            \"coordinates\": [\n",
    "                float(node.lon),\n",
    "                float(node.lat)\n",
    "            ]\n",
    "        }\n",
    "    }\n",
    "\n",
    "# given an array of nodes return an array of GeoJSON features\n",
    "def nodesToFeatures(nodes):\n",
    "    \"\"\"\n",
    "    :param nodes\n",
    "    :type nodes from overpy.Result (result.nodes)\n",
    "    :return:\n",
    "    \"\"\"\n",
    "    features = []\n",
    "    for node in nodes:\n",
    "        features.append(nodeToFeature(node))\n",
    "    return features\n",
    "\n",
    "def waysToFeatures(ways):\n",
    "    print ways\n",
    "    features = []\n",
    "    return features"
   ]
  },
  {
   "cell_type": "code",
   "execution_count": 24,
   "metadata": {
    "collapsed": false
   },
   "outputs": [],
   "source": [
    "# method to handle OverpassTooManyRequests exception from OpenStreetMap/overpass turbo API\n",
    "def retry_if_overpass_too_many_requests(exception):\n",
    "    return isinstance(exception, overpy.exception.OverpassTooManyRequests)\n",
    "\n",
    "# decorator to retry with exponential back off\n",
    "@retry(wait_exponential_multiplier=2000, \n",
    "       wait_exponential_max=60000,\n",
    "       retry_on_exception=retry_if_overpass_too_many_requests)\n",
    "def call_overpass_api(q):\n",
    "    return OVERPASS_API.query(q)\n",
    "\n",
    "def run_overpass_api(bounding_geo_df):\n",
    "    local_pois = []\n",
    "    for index, row in bounding_geo_df.iterrows():\n",
    "        # For documentation see:\n",
    "        # http://wiki.openstreetmap.org/wiki/Tag:{key}={value}\n",
    "        # e.g: http://wiki.openstreetmap.org/wiki/Tag:amenity=theatre\n",
    "        payload = \"\"\"\n",
    "            [out:json][timeout:60];\n",
    "            (\n",
    "              node[\"tourism\"=\"gallery\"]%(box)s;\n",
    "              node[\"tourism\"=\"artwork\"]%(box)s;\n",
    "              node[\"tourism\"=\"museum\"]%(box)s;\n",
    "              node[\"amenity\"=\"arts_centre\"]%(box)s;\n",
    "              node[\"amenity\"=\"theatre\"]%(box)s; \n",
    "            );\n",
    "            out body;\"\"\" % {'box': str(bbox(row.geometry.bounds))}\n",
    "        result = call_overpass_api(payload)\n",
    "        local_pois.extend(nodesToFeatures(result.nodes))\n"
   ]
  },
  {
   "cell_type": "code",
   "execution_count": 25,
   "metadata": {
    "code_folding": [],
    "collapsed": false
   },
   "outputs": [],
   "source": [
    "OVERPASS_API         = overpy.Overpass()\n",
    "BASE_DIR             = os.path.join(os.path.abspath('.'), 'work-flow')\n",
    "URBAN_BOUNDRIES_FILE = '06_Europe_Cities_Boundries_with_Labels_Population.geo.json'\n",
    "\n",
    "# Paths to base datasets that we are using:\n",
    "URBAN_BOUNDRIES_PATH = os.path.join(BASE_DIR,URBAN_BOUNDRIES_FILE)\n",
    "POIS_PATH            = os.path.join(BASE_DIR, \"pois.json\")"
   ]
  },
  {
   "cell_type": "markdown",
   "metadata": {},
   "source": [
    "# GeoPandas\n",
    "\n",
    "GeoPandas is an open source project to make working with geospatial data in python easier. GeoPandas extends the datatypes used by pandas to allow spatial operations on geometric types. Geometric operations are performed by shapely. Geopandas further depends on fiona for file access and descartes and matplotlib for plotting.\n",
    "\n",
    "The goal of GeoPandas is to make working with geospatial data in python easier. It combines the capabilities of pandas and shapely, providing geospatial operations in pandas and a high-level interface to multiple geometries to shapely. GeoPandas enables you to easily do operations in python that would otherwise require a spatial database such as PostGIS."
   ]
  },
  {
   "cell_type": "markdown",
   "metadata": {},
   "source": [
    "## OGC SimpleFeatures\n",
    "\n",
    "A standard that specifies a common storage and access model of mostly two-dimensional geographical data (point, line, polygon, multi-point, multi-line, etc.) The formats were originally defined by the Open Geospatial Consortium (OGC) and described in their Simple Feature Access and Coordinate Transformation Service specifications. \n",
    "\n",
    "The standard defines a model for two-dimensional simple features, with linear interpolation between vertices. The data model defined is a hierarchy of classes. This part also defines representation using Well-Known Text (and Binary).\n",
    "\n",
    "### WKT/WKB: Well Known Text and Well Known Binary\n",
    "\n",
    "Well-known text (WKT) is a text markup language for representing vector geometry objects on a map, spatial reference systems of spatial objects and transformations between spatial reference systems. A binary equivalent, known as well-known binary (WKB), is used to transfer and store the same information on databases, such as PostGIS, Microsoft SQL Server and DB2. The formats were originally defined by the Open Geospatial Consortium (OGC) and described in their Simple Feature Access and Coordinate Transformation Service specifications.\n",
    "\n",
    "\n",
    "### Implications for PySpark data de/serialization & un/marshalling\n",
    "\n",
    "When using pyspark we want have to send data back and forth between master node and the workers which run jobs on the JVM. In order to simplify this rather than sending Python or more precisely Shapely objects we will use WKT. It works with one the libraries I am using today to perform Spatial Joins.\n"
   ]
  },
  {
   "cell_type": "code",
   "execution_count": 26,
   "metadata": {
    "collapsed": true
   },
   "outputs": [],
   "source": [
    "# Load the boundries data\n",
    "geo_df = GeoDataFrame.from_file(URBAN_BOUNDRIES_PATH)"
   ]
  },
  {
   "cell_type": "code",
   "execution_count": 27,
   "metadata": {
    "collapsed": true
   },
   "outputs": [],
   "source": [
    "# Fetch the the POIs but not now\n",
    "overwritePois = False # <= DON'T Set to True during workshop!        \n",
    "if overwritePois or not os.path.isfile(POIS_PATH):\n",
    "    # Write POIs file\n",
    "    pois = run_overpass_api(geo_df)\n",
    "    with io.open(POIS_PATH, 'w+', encoding='utf-8') as f:\n",
    "        f.write(unicode(json.dumps(pois, ensure_ascii= False)))"
   ]
  },
  {
   "cell_type": "markdown",
   "metadata": {
    "solution2": "hidden",
    "solution2_first": true
   },
   "source": [
    "For the exercise below consult GeoPandas documentation http://geopandas.org/user.html\n",
    "\n",
    "## Exercise: \n",
    "\n",
    "* find out what the schema for the data is?\n",
    "* plot the geometries?\n",
    "* print out the wkt version of the geometries\n",
    "* find out the Spatial Reference System (CRS/SRS) for the GeoDataframe?\n",
    "* change the reference system to a cartesian system that is suitable for calculating areas\n",
    "* calculate the total area of the cities we are using HINT: Europe using this CRS: http://spatialreference.org/ref/epsg/3035/"
   ]
  },
  {
   "cell_type": "code",
   "execution_count": 28,
   "metadata": {
    "collapsed": false,
    "scrolled": true,
    "solution2": "hidden"
   },
   "outputs": [
    {
     "data": {
      "text/html": [
       "<div>\n",
       "<table border=\"1\" class=\"dataframe\">\n",
       "  <thead>\n",
       "    <tr style=\"text-align: right;\">\n",
       "      <th></th>\n",
       "      <th>ADM0NAME</th>\n",
       "      <th>ADM0_A3</th>\n",
       "      <th>ADM1NAME</th>\n",
       "      <th>ELEVATION</th>\n",
       "      <th>FEATURECLA</th>\n",
       "      <th>GEONAMEID</th>\n",
       "      <th>GN_ASCII</th>\n",
       "      <th>GN_POP</th>\n",
       "      <th>ISO_A2</th>\n",
       "      <th>MEGACITY</th>\n",
       "      <th>NAME</th>\n",
       "      <th>NAMEASCII</th>\n",
       "      <th>POPEU2013</th>\n",
       "      <th>TIMEZONE</th>\n",
       "      <th>UN_FID</th>\n",
       "      <th>URAU_CITY_</th>\n",
       "      <th>geometry</th>\n",
       "    </tr>\n",
       "  </thead>\n",
       "  <tbody>\n",
       "    <tr>\n",
       "      <th>0</th>\n",
       "      <td>Switzerland</td>\n",
       "      <td>CHE</td>\n",
       "      <td>ZHrich</td>\n",
       "      <td>0.0</td>\n",
       "      <td>Admin-1 capital</td>\n",
       "      <td>2657896.0</td>\n",
       "      <td>Zurich</td>\n",
       "      <td>341730.0</td>\n",
       "      <td>CH</td>\n",
       "      <td>1</td>\n",
       "      <td>Zurich</td>\n",
       "      <td>Zurich</td>\n",
       "      <td>380777</td>\n",
       "      <td>Europe/Zurich</td>\n",
       "      <td>468</td>\n",
       "      <td>CH001C</td>\n",
       "      <td>(POLYGON ((8.510730700635937 47.43218569956764...</td>\n",
       "    </tr>\n",
       "    <tr>\n",
       "      <th>1</th>\n",
       "      <td>Czech Republic</td>\n",
       "      <td>CZE</td>\n",
       "      <td>Prague</td>\n",
       "      <td>308.0</td>\n",
       "      <td>Admin-0 capital</td>\n",
       "      <td>4548393.0</td>\n",
       "      <td>Prague</td>\n",
       "      <td>2087.0</td>\n",
       "      <td>CZ</td>\n",
       "      <td>1</td>\n",
       "      <td>Prague</td>\n",
       "      <td>Prague</td>\n",
       "      <td>1243201</td>\n",
       "      <td>Europe/Prague</td>\n",
       "      <td>173</td>\n",
       "      <td>CZ001C</td>\n",
       "      <td>(POLYGON ((14.53235520019044 50.17216119994004...</td>\n",
       "    </tr>\n",
       "    <tr>\n",
       "      <th>2</th>\n",
       "      <td>Bulgaria</td>\n",
       "      <td>BGR</td>\n",
       "      <td>Grad Sofiya</td>\n",
       "      <td>0.0</td>\n",
       "      <td>Admin-0 capital</td>\n",
       "      <td>727011.0</td>\n",
       "      <td>Sofia</td>\n",
       "      <td>1152556.0</td>\n",
       "      <td>BG</td>\n",
       "      <td>1</td>\n",
       "      <td>Sofia</td>\n",
       "      <td>Sofia</td>\n",
       "      <td>1213542</td>\n",
       "      <td>Europe/Sofia</td>\n",
       "      <td>0</td>\n",
       "      <td>BG001C</td>\n",
       "      <td>(POLYGON ((23.60710369970358 42.84173220006568...</td>\n",
       "    </tr>\n",
       "    <tr>\n",
       "      <th>3</th>\n",
       "      <td>Austria</td>\n",
       "      <td>AUT</td>\n",
       "      <td>Wien</td>\n",
       "      <td>171.0</td>\n",
       "      <td>Admin-0 capital</td>\n",
       "      <td>2761369.0</td>\n",
       "      <td>Vienna</td>\n",
       "      <td>1691468.0</td>\n",
       "      <td>AT</td>\n",
       "      <td>1</td>\n",
       "      <td>Vienna</td>\n",
       "      <td>Vienna</td>\n",
       "      <td>1741246</td>\n",
       "      <td>Europe/Vienna</td>\n",
       "      <td>321</td>\n",
       "      <td>AT001C</td>\n",
       "      <td>(POLYGON ((16.46820069992615 48.27959820028182...</td>\n",
       "    </tr>\n",
       "    <tr>\n",
       "      <th>4</th>\n",
       "      <td>Belgium</td>\n",
       "      <td>BEL</td>\n",
       "      <td>Brussels</td>\n",
       "      <td>0.0</td>\n",
       "      <td>Admin-0 capital</td>\n",
       "      <td>2800866.0</td>\n",
       "      <td>Brussels</td>\n",
       "      <td>1019022.0</td>\n",
       "      <td>BE</td>\n",
       "      <td>1</td>\n",
       "      <td>Brussels</td>\n",
       "      <td>Brussels</td>\n",
       "      <td>1174624</td>\n",
       "      <td>Europe/Brussels</td>\n",
       "      <td>384</td>\n",
       "      <td>BE001C</td>\n",
       "      <td>(POLYGON ((4.427633699359439 50.89966620011072...</td>\n",
       "    </tr>\n",
       "    <tr>\n",
       "      <th>5</th>\n",
       "      <td>Germany</td>\n",
       "      <td>DEU</td>\n",
       "      <td>Berlin</td>\n",
       "      <td>74.0</td>\n",
       "      <td>Admin-0 capital</td>\n",
       "      <td>2950159.0</td>\n",
       "      <td>Berlin</td>\n",
       "      <td>3426354.0</td>\n",
       "      <td>DE</td>\n",
       "      <td>1</td>\n",
       "      <td>Berlin</td>\n",
       "      <td>Berlin</td>\n",
       "      <td>3375222</td>\n",
       "      <td>Europe/Berlin</td>\n",
       "      <td>192</td>\n",
       "      <td>DE001C</td>\n",
       "      <td>(POLYGON ((13.49526520036133 52.65290419998798...</td>\n",
       "    </tr>\n",
       "    <tr>\n",
       "      <th>6</th>\n",
       "      <td>Germany</td>\n",
       "      <td>DEU</td>\n",
       "      <td>Hamburg</td>\n",
       "      <td>0.0</td>\n",
       "      <td>Admin-1 capital</td>\n",
       "      <td>2911298.0</td>\n",
       "      <td>Hamburg</td>\n",
       "      <td>1739117.0</td>\n",
       "      <td>DE</td>\n",
       "      <td>1</td>\n",
       "      <td>Hamburg</td>\n",
       "      <td>Hamburg</td>\n",
       "      <td>1734272</td>\n",
       "      <td>Europe/Berlin</td>\n",
       "      <td>193</td>\n",
       "      <td>DE002C</td>\n",
       "      <td>(POLYGON ((10.19165569992891 53.72275170029032...</td>\n",
       "    </tr>\n",
       "    <tr>\n",
       "      <th>7</th>\n",
       "      <td>Germany</td>\n",
       "      <td>DEU</td>\n",
       "      <td>Bayern</td>\n",
       "      <td>0.0</td>\n",
       "      <td>Admin-1 capital</td>\n",
       "      <td>2867714.0</td>\n",
       "      <td>Muenchen</td>\n",
       "      <td>1260391.0</td>\n",
       "      <td>DE</td>\n",
       "      <td>1</td>\n",
       "      <td>Munich</td>\n",
       "      <td>Munich</td>\n",
       "      <td>1388308</td>\n",
       "      <td>Europe/Berlin</td>\n",
       "      <td>195</td>\n",
       "      <td>DE003C</td>\n",
       "      <td>(POLYGON ((11.55337401055753 48.22473089997777...</td>\n",
       "    </tr>\n",
       "    <tr>\n",
       "      <th>8</th>\n",
       "      <td>Germany</td>\n",
       "      <td>DEU</td>\n",
       "      <td>Nordrhein-Westfalen</td>\n",
       "      <td>0.0</td>\n",
       "      <td>Populated place</td>\n",
       "      <td>2886242.0</td>\n",
       "      <td>Koeln</td>\n",
       "      <td>963395.0</td>\n",
       "      <td>DE</td>\n",
       "      <td>1</td>\n",
       "      <td>Cologne</td>\n",
       "      <td>Cologne</td>\n",
       "      <td>1024373</td>\n",
       "      <td>Europe/Berlin</td>\n",
       "      <td>194</td>\n",
       "      <td>DE004C</td>\n",
       "      <td>(POLYGON ((6.921840199711727 51.05242920025606...</td>\n",
       "    </tr>\n",
       "    <tr>\n",
       "      <th>9</th>\n",
       "      <td>Germany</td>\n",
       "      <td>DEU</td>\n",
       "      <td>Hessen</td>\n",
       "      <td>0.0</td>\n",
       "      <td>Populated place</td>\n",
       "      <td>2925533.0</td>\n",
       "      <td>Frankfurt am Main</td>\n",
       "      <td>650000.0</td>\n",
       "      <td>DE</td>\n",
       "      <td>0</td>\n",
       "      <td>Frankfurt</td>\n",
       "      <td>Frankfurt</td>\n",
       "      <td>687775</td>\n",
       "      <td>Europe/Berlin</td>\n",
       "      <td>0</td>\n",
       "      <td>DE005C</td>\n",
       "      <td>(POLYGON ((8.734014699699106 50.2158512004787,...</td>\n",
       "    </tr>\n",
       "    <tr>\n",
       "      <th>10</th>\n",
       "      <td>Germany</td>\n",
       "      <td>DEU</td>\n",
       "      <td>Baden-W</td>\n",
       "      <td>0.0</td>\n",
       "      <td>Admin-1 capital</td>\n",
       "      <td>2825297.0</td>\n",
       "      <td>Stuttgart</td>\n",
       "      <td>589793.0</td>\n",
       "      <td>DE</td>\n",
       "      <td>0</td>\n",
       "      <td>Stuttgart</td>\n",
       "      <td>Stuttgart</td>\n",
       "      <td>597939</td>\n",
       "      <td>Europe/Berlin</td>\n",
       "      <td>0</td>\n",
       "      <td>DE007C</td>\n",
       "      <td>(POLYGON ((9.229879699650418 48.8547326999665,...</td>\n",
       "    </tr>\n",
       "    <tr>\n",
       "      <th>11</th>\n",
       "      <td>Germany</td>\n",
       "      <td>DEU</td>\n",
       "      <td>Nordrhein-Westfalen</td>\n",
       "      <td>0.0</td>\n",
       "      <td>Admin-1 capital</td>\n",
       "      <td>2934246.0</td>\n",
       "      <td>Dusseldorf</td>\n",
       "      <td>573057.0</td>\n",
       "      <td>DE</td>\n",
       "      <td>0</td>\n",
       "      <td>Ddsseldorf</td>\n",
       "      <td>Dusseldorf</td>\n",
       "      <td>593682</td>\n",
       "      <td>Europe/Berlin</td>\n",
       "      <td>0</td>\n",
       "      <td>DE011C</td>\n",
       "      <td>(POLYGON ((6.776406700313998 51.3438377002807,...</td>\n",
       "    </tr>\n",
       "    <tr>\n",
       "      <th>12</th>\n",
       "      <td>Germany</td>\n",
       "      <td>DEU</td>\n",
       "      <td>Nordrhein-Westfalen</td>\n",
       "      <td>0.0</td>\n",
       "      <td>Populated place</td>\n",
       "      <td>2946447.0</td>\n",
       "      <td>Bonn</td>\n",
       "      <td>313125.0</td>\n",
       "      <td>DE</td>\n",
       "      <td>0</td>\n",
       "      <td>Bonn</td>\n",
       "      <td>Bonn</td>\n",
       "      <td>309869</td>\n",
       "      <td>Europe/Berlin</td>\n",
       "      <td>0</td>\n",
       "      <td>DE034C</td>\n",
       "      <td>(POLYGON ((7.135130199973568 50.77132070013705...</td>\n",
       "    </tr>\n",
       "    <tr>\n",
       "      <th>13</th>\n",
       "      <td>Spain</td>\n",
       "      <td>ESP</td>\n",
       "      <td>Comunidad de Madrid</td>\n",
       "      <td>0.0</td>\n",
       "      <td>Admin-0 capital</td>\n",
       "      <td>3675707.0</td>\n",
       "      <td>Madrid</td>\n",
       "      <td>50437.0</td>\n",
       "      <td>ES</td>\n",
       "      <td>1</td>\n",
       "      <td>Madrid</td>\n",
       "      <td>Madrid</td>\n",
       "      <td>3207247</td>\n",
       "      <td>America/Bogota</td>\n",
       "      <td>464</td>\n",
       "      <td>ES001C</td>\n",
       "      <td>(POLYGON ((-3.616587800592957 40.6070862001142...</td>\n",
       "    </tr>\n",
       "    <tr>\n",
       "      <th>14</th>\n",
       "      <td>Spain</td>\n",
       "      <td>ESP</td>\n",
       "      <td>Cataluma</td>\n",
       "      <td>15.0</td>\n",
       "      <td>Admin-1 capital</td>\n",
       "      <td>3128760.0</td>\n",
       "      <td>Barcelona</td>\n",
       "      <td>1581595.0</td>\n",
       "      <td>ES</td>\n",
       "      <td>1</td>\n",
       "      <td>Barcelona</td>\n",
       "      <td>Barcelona</td>\n",
       "      <td>1611822</td>\n",
       "      <td>Europe/Madrid</td>\n",
       "      <td>463</td>\n",
       "      <td>ES002C</td>\n",
       "      <td>(POLYGON ((2.190634201275362 41.4575772000017,...</td>\n",
       "    </tr>\n",
       "    <tr>\n",
       "      <th>15</th>\n",
       "      <td>Spain</td>\n",
       "      <td>ESP</td>\n",
       "      <td>Comunidad Valenciana</td>\n",
       "      <td>15.0</td>\n",
       "      <td>Admin-1 capital</td>\n",
       "      <td>2509954.0</td>\n",
       "      <td>Valencia</td>\n",
       "      <td>805304.0</td>\n",
       "      <td>ES</td>\n",
       "      <td>1</td>\n",
       "      <td>Valencia</td>\n",
       "      <td>Valencia</td>\n",
       "      <td>792303</td>\n",
       "      <td>Europe/Madrid</td>\n",
       "      <td>465</td>\n",
       "      <td>ES003C</td>\n",
       "      <td>(POLYGON ((-0.367287633037565 39.5044913569018...</td>\n",
       "    </tr>\n",
       "    <tr>\n",
       "      <th>16</th>\n",
       "      <td>Spain</td>\n",
       "      <td>ESP</td>\n",
       "      <td>Andaluc a</td>\n",
       "      <td>0.0</td>\n",
       "      <td>Admin-1 capital</td>\n",
       "      <td>2510911.0</td>\n",
       "      <td>Sevilla</td>\n",
       "      <td>701894.0</td>\n",
       "      <td>ES</td>\n",
       "      <td>0</td>\n",
       "      <td>Seville</td>\n",
       "      <td>Seville</td>\n",
       "      <td>700169</td>\n",
       "      <td>Europe/Madrid</td>\n",
       "      <td>0</td>\n",
       "      <td>ES004C</td>\n",
       "      <td>(POLYGON ((-5.916812799437431 37.4476132005512...</td>\n",
       "    </tr>\n",
       "    <tr>\n",
       "      <th>17</th>\n",
       "      <td>France</td>\n",
       "      <td>FRA</td>\n",
       "      <td>Fle-de-France</td>\n",
       "      <td>0.0</td>\n",
       "      <td>Admin-0 capital</td>\n",
       "      <td>6942553.0</td>\n",
       "      <td>Paris</td>\n",
       "      <td>11177.0</td>\n",
       "      <td>FR</td>\n",
       "      <td>1</td>\n",
       "      <td>Paris</td>\n",
       "      <td>Paris</td>\n",
       "      <td>2240681</td>\n",
       "      <td>America/Toronto</td>\n",
       "      <td>189</td>\n",
       "      <td>FR001C</td>\n",
       "      <td>(POLYGON ((2.39488770191454 48.89844169977041,...</td>\n",
       "    </tr>\n",
       "    <tr>\n",
       "      <th>18</th>\n",
       "      <td>France</td>\n",
       "      <td>FRA</td>\n",
       "      <td>Provence-Alpes-C-te-d'Azur</td>\n",
       "      <td>0.0</td>\n",
       "      <td>Admin-1 region capital</td>\n",
       "      <td>2995469.0</td>\n",
       "      <td>Marseille</td>\n",
       "      <td>794811.0</td>\n",
       "      <td>FR</td>\n",
       "      <td>1</td>\n",
       "      <td>Marseille</td>\n",
       "      <td>Marseille</td>\n",
       "      <td>1045805</td>\n",
       "      <td>Europe/Paris</td>\n",
       "      <td>187</td>\n",
       "      <td>FR203C</td>\n",
       "      <td>(POLYGON ((5.269502504927321 43.41610334017204...</td>\n",
       "    </tr>\n",
       "    <tr>\n",
       "      <th>19</th>\n",
       "      <td>Ireland</td>\n",
       "      <td>IRL</td>\n",
       "      <td>Dublin</td>\n",
       "      <td>0.0</td>\n",
       "      <td>Admin-0 capital</td>\n",
       "      <td>2964574.0</td>\n",
       "      <td>Dublin</td>\n",
       "      <td>1024027.0</td>\n",
       "      <td>IE</td>\n",
       "      <td>1</td>\n",
       "      <td>Dublin</td>\n",
       "      <td>Dublin</td>\n",
       "      <td>516255</td>\n",
       "      <td>Europe/Dublin</td>\n",
       "      <td>302</td>\n",
       "      <td>IE001C</td>\n",
       "      <td>(POLYGON ((-6.26849730049253 53.40250019993692...</td>\n",
       "    </tr>\n",
       "    <tr>\n",
       "      <th>20</th>\n",
       "      <td>Italy</td>\n",
       "      <td>ITA</td>\n",
       "      <td>Lazio</td>\n",
       "      <td>187.0</td>\n",
       "      <td>Admin-0 capital</td>\n",
       "      <td>4219762.0</td>\n",
       "      <td>Rome</td>\n",
       "      <td>35452.0</td>\n",
       "      <td>IT</td>\n",
       "      <td>1</td>\n",
       "      <td>Rome</td>\n",
       "      <td>Rome</td>\n",
       "      <td>2638842</td>\n",
       "      <td>America/New_York</td>\n",
       "      <td>308</td>\n",
       "      <td>IT001C</td>\n",
       "      <td>(POLYGON ((12.37293620154451 42.05524469987723...</td>\n",
       "    </tr>\n",
       "    <tr>\n",
       "      <th>21</th>\n",
       "      <td>Italy</td>\n",
       "      <td>ITA</td>\n",
       "      <td>Lombardia</td>\n",
       "      <td>120.0</td>\n",
       "      <td>Admin-1 region capital</td>\n",
       "      <td>3173435.0</td>\n",
       "      <td>Milano</td>\n",
       "      <td>1306661.0</td>\n",
       "      <td>IT</td>\n",
       "      <td>1</td>\n",
       "      <td>Milan</td>\n",
       "      <td>Milan</td>\n",
       "      <td>1262101</td>\n",
       "      <td>Europe/Rome</td>\n",
       "      <td>305</td>\n",
       "      <td>IT002C</td>\n",
       "      <td>(POLYGON ((9.174862200618314 45.53622120001347...</td>\n",
       "    </tr>\n",
       "    <tr>\n",
       "      <th>22</th>\n",
       "      <td>Italy</td>\n",
       "      <td>ITA</td>\n",
       "      <td>Campania</td>\n",
       "      <td>0.0</td>\n",
       "      <td>Admin-1 region capital</td>\n",
       "      <td>3172394.0</td>\n",
       "      <td>Napoli</td>\n",
       "      <td>988972.0</td>\n",
       "      <td>IT</td>\n",
       "      <td>1</td>\n",
       "      <td>Naples</td>\n",
       "      <td>Naples</td>\n",
       "      <td>959052</td>\n",
       "      <td>Europe/Rome</td>\n",
       "      <td>306</td>\n",
       "      <td>IT003C</td>\n",
       "      <td>(POLYGON ((14.27066820167066 40.8915597000308,...</td>\n",
       "    </tr>\n",
       "    <tr>\n",
       "      <th>23</th>\n",
       "      <td>Italy</td>\n",
       "      <td>ITA</td>\n",
       "      <td>Piemonte</td>\n",
       "      <td>240.0</td>\n",
       "      <td>Admin-1 region capital</td>\n",
       "      <td>3165524.0</td>\n",
       "      <td>Torino</td>\n",
       "      <td>865263.0</td>\n",
       "      <td>IT</td>\n",
       "      <td>1</td>\n",
       "      <td>Turin</td>\n",
       "      <td>Turin</td>\n",
       "      <td>872091</td>\n",
       "      <td>Europe/Rome</td>\n",
       "      <td>309</td>\n",
       "      <td>IT004C</td>\n",
       "      <td>(POLYGON ((7.690229700591671 45.13267170026489...</td>\n",
       "    </tr>\n",
       "    <tr>\n",
       "      <th>24</th>\n",
       "      <td>Hungary</td>\n",
       "      <td>HUN</td>\n",
       "      <td>Budapest</td>\n",
       "      <td>0.0</td>\n",
       "      <td>Admin-0 capital</td>\n",
       "      <td>3054643.0</td>\n",
       "      <td>Budapest</td>\n",
       "      <td>1696128.0</td>\n",
       "      <td>HU</td>\n",
       "      <td>1</td>\n",
       "      <td>Budapest</td>\n",
       "      <td>Budapest</td>\n",
       "      <td>1735711</td>\n",
       "      <td>Europe/Budapest</td>\n",
       "      <td>211</td>\n",
       "      <td>HU001C</td>\n",
       "      <td>(POLYGON ((19.15379920044778 47.58494220030077...</td>\n",
       "    </tr>\n",
       "    <tr>\n",
       "      <th>25</th>\n",
       "      <td>Norway</td>\n",
       "      <td>NOR</td>\n",
       "      <td>Oslo</td>\n",
       "      <td>0.0</td>\n",
       "      <td>Admin-0 capital</td>\n",
       "      <td>3143244.0</td>\n",
       "      <td>Oslo</td>\n",
       "      <td>580000.0</td>\n",
       "      <td>NO</td>\n",
       "      <td>1</td>\n",
       "      <td>Oslo</td>\n",
       "      <td>Oslo</td>\n",
       "      <td>623966</td>\n",
       "      <td>Europe/Oslo</td>\n",
       "      <td>397</td>\n",
       "      <td>NO001C</td>\n",
       "      <td>(POLYGON ((10.61905670082836 60.13518169960512...</td>\n",
       "    </tr>\n",
       "    <tr>\n",
       "      <th>26</th>\n",
       "      <td>Poland</td>\n",
       "      <td>POL</td>\n",
       "      <td>Masovian</td>\n",
       "      <td>0.0</td>\n",
       "      <td>Admin-0 capital</td>\n",
       "      <td>756135.0</td>\n",
       "      <td>Warsaw</td>\n",
       "      <td>1702139.0</td>\n",
       "      <td>PL</td>\n",
       "      <td>1</td>\n",
       "      <td>Warsaw</td>\n",
       "      <td>Warsaw</td>\n",
       "      <td>1724404</td>\n",
       "      <td>Europe/Warsaw</td>\n",
       "      <td>418</td>\n",
       "      <td>PL001C</td>\n",
       "      <td>(POLYGON ((21.08172620163878 52.3541871998616,...</td>\n",
       "    </tr>\n",
       "    <tr>\n",
       "      <th>27</th>\n",
       "      <td>Netherlands</td>\n",
       "      <td>NLD</td>\n",
       "      <td>Zuid-Holland</td>\n",
       "      <td>0.0</td>\n",
       "      <td>Admin-0 capital alt</td>\n",
       "      <td>2747373.0</td>\n",
       "      <td>Den Haag</td>\n",
       "      <td>474292.0</td>\n",
       "      <td>NL</td>\n",
       "      <td>0</td>\n",
       "      <td>The Hague</td>\n",
       "      <td>The Hague</td>\n",
       "      <td>505856</td>\n",
       "      <td>Europe/Amsterdam</td>\n",
       "      <td>0</td>\n",
       "      <td>NL001C</td>\n",
       "      <td>(POLYGON ((4.333187699743744 52.10577770039392...</td>\n",
       "    </tr>\n",
       "    <tr>\n",
       "      <th>28</th>\n",
       "      <td>Netherlands</td>\n",
       "      <td>NLD</td>\n",
       "      <td>Noord-Holland</td>\n",
       "      <td>0.0</td>\n",
       "      <td>Admin-0 capital</td>\n",
       "      <td>2759794.0</td>\n",
       "      <td>Amsterdam</td>\n",
       "      <td>741636.0</td>\n",
       "      <td>NL</td>\n",
       "      <td>1</td>\n",
       "      <td>Amsterdam</td>\n",
       "      <td>Amsterdam</td>\n",
       "      <td>799278</td>\n",
       "      <td>Europe/Amsterdam</td>\n",
       "      <td>379</td>\n",
       "      <td>NL002C</td>\n",
       "      <td>(POLYGON ((4.739188699894128 52.43122119976331...</td>\n",
       "    </tr>\n",
       "    <tr>\n",
       "      <th>29</th>\n",
       "      <td>Netherlands</td>\n",
       "      <td>NLD</td>\n",
       "      <td>Zuid-Holland</td>\n",
       "      <td>0.0</td>\n",
       "      <td>Populated place</td>\n",
       "      <td>2747891.0</td>\n",
       "      <td>Rotterdam</td>\n",
       "      <td>598199.0</td>\n",
       "      <td>NL</td>\n",
       "      <td>1</td>\n",
       "      <td>Rotterdam</td>\n",
       "      <td>Rotterdam</td>\n",
       "      <td>616294</td>\n",
       "      <td>Europe/Amsterdam</td>\n",
       "      <td>380</td>\n",
       "      <td>NL003C</td>\n",
       "      <td>(POLYGON ((4.132303699646429 51.99545669969921...</td>\n",
       "    </tr>\n",
       "    <tr>\n",
       "      <th>30</th>\n",
       "      <td>Poland</td>\n",
       "      <td>POL</td>\n",
       "      <td>Silesian</td>\n",
       "      <td>0.0</td>\n",
       "      <td>Admin-1 capital</td>\n",
       "      <td>3096472.0</td>\n",
       "      <td>Katowice</td>\n",
       "      <td>317316.0</td>\n",
       "      <td>PL</td>\n",
       "      <td>0</td>\n",
       "      <td>Katowice</td>\n",
       "      <td>Katowice</td>\n",
       "      <td>304362</td>\n",
       "      <td>Europe/Warsaw</td>\n",
       "      <td>0</td>\n",
       "      <td>PL010C</td>\n",
       "      <td>(POLYGON ((19.10875170086361 50.15949270047653...</td>\n",
       "    </tr>\n",
       "    <tr>\n",
       "      <th>31</th>\n",
       "      <td>Portugal</td>\n",
       "      <td>PRT</td>\n",
       "      <td>Lisboa</td>\n",
       "      <td>0.0</td>\n",
       "      <td>Admin-0 capital</td>\n",
       "      <td>2267057.0</td>\n",
       "      <td>Lisbon</td>\n",
       "      <td>517802.0</td>\n",
       "      <td>PT</td>\n",
       "      <td>1</td>\n",
       "      <td>Lisbon</td>\n",
       "      <td>Lisbon</td>\n",
       "      <td>524282</td>\n",
       "      <td>Europe/Lisbon</td>\n",
       "      <td>419</td>\n",
       "      <td>PT001C</td>\n",
       "      <td>(POLYGON ((-9.152217799434739 38.7944987000479...</td>\n",
       "    </tr>\n",
       "    <tr>\n",
       "      <th>32</th>\n",
       "      <td>Portugal</td>\n",
       "      <td>PRT</td>\n",
       "      <td>Porto</td>\n",
       "      <td>0.0</td>\n",
       "      <td>Admin-1 capital</td>\n",
       "      <td>2735943.0</td>\n",
       "      <td>Porto</td>\n",
       "      <td>249633.0</td>\n",
       "      <td>PT</td>\n",
       "      <td>1</td>\n",
       "      <td>Porto</td>\n",
       "      <td>Porto</td>\n",
       "      <td>227535</td>\n",
       "      <td>Europe/Lisbon</td>\n",
       "      <td>420</td>\n",
       "      <td>PT002C</td>\n",
       "      <td>(POLYGON ((-8.641595799919461 41.1843607002404...</td>\n",
       "    </tr>\n",
       "    <tr>\n",
       "      <th>33</th>\n",
       "      <td>Romania</td>\n",
       "      <td>ROU</td>\n",
       "      <td>Bucharest</td>\n",
       "      <td>0.0</td>\n",
       "      <td>Admin-0 capital</td>\n",
       "      <td>683506.0</td>\n",
       "      <td>Bucuresti</td>\n",
       "      <td>1877155.0</td>\n",
       "      <td>RO</td>\n",
       "      <td>1</td>\n",
       "      <td>Bucharest</td>\n",
       "      <td>Bucharest</td>\n",
       "      <td>2134030</td>\n",
       "      <td>Europe/Bucharest</td>\n",
       "      <td>422</td>\n",
       "      <td>RO001C</td>\n",
       "      <td>(POLYGON ((25.97658170026297 44.40754719999584...</td>\n",
       "    </tr>\n",
       "    <tr>\n",
       "      <th>34</th>\n",
       "      <td>Sweden</td>\n",
       "      <td>SWE</td>\n",
       "      <td>Stockholm</td>\n",
       "      <td>0.0</td>\n",
       "      <td>Admin-0 capital</td>\n",
       "      <td>2673730.0</td>\n",
       "      <td>Stockholm</td>\n",
       "      <td>1253309.0</td>\n",
       "      <td>SE</td>\n",
       "      <td>1</td>\n",
       "      <td>Stockholm</td>\n",
       "      <td>Stockholm</td>\n",
       "      <td>864324</td>\n",
       "      <td>Europe/Stockholm</td>\n",
       "      <td>467</td>\n",
       "      <td>SE001C</td>\n",
       "      <td>(POLYGON ((17.92986320036552 59.37578219971166...</td>\n",
       "    </tr>\n",
       "    <tr>\n",
       "      <th>35</th>\n",
       "      <td>United Kingdom</td>\n",
       "      <td>GBR</td>\n",
       "      <td>West Midlands</td>\n",
       "      <td>0.0</td>\n",
       "      <td>Populated place</td>\n",
       "      <td>2655603.0</td>\n",
       "      <td>Birmingham</td>\n",
       "      <td>984333.0</td>\n",
       "      <td>GB</td>\n",
       "      <td>1</td>\n",
       "      <td>Birmingham</td>\n",
       "      <td>Birmingham</td>\n",
       "      <td>1088900</td>\n",
       "      <td>Europe/London</td>\n",
       "      <td>516</td>\n",
       "      <td>UK002C</td>\n",
       "      <td>(POLYGON ((-1.753495299571661 52.5129742000670...</td>\n",
       "    </tr>\n",
       "    <tr>\n",
       "      <th>36</th>\n",
       "      <td>United Kingdom</td>\n",
       "      <td>GBR</td>\n",
       "      <td>West Yorkshire</td>\n",
       "      <td>0.0</td>\n",
       "      <td>Populated place</td>\n",
       "      <td>2644688.0</td>\n",
       "      <td>Leeds</td>\n",
       "      <td>455123.0</td>\n",
       "      <td>GB</td>\n",
       "      <td>1</td>\n",
       "      <td>Leeds</td>\n",
       "      <td>Leeds</td>\n",
       "      <td>759600</td>\n",
       "      <td>Europe/London</td>\n",
       "      <td>522</td>\n",
       "      <td>UK003C</td>\n",
       "      <td>(POLYGON ((-1.303225300020394 53.7421151999979...</td>\n",
       "    </tr>\n",
       "    <tr>\n",
       "      <th>37</th>\n",
       "      <td>United Kingdom</td>\n",
       "      <td>GBR</td>\n",
       "      <td>Glasgow</td>\n",
       "      <td>0.0</td>\n",
       "      <td>Populated place</td>\n",
       "      <td>2648579.0</td>\n",
       "      <td>Glasgow</td>\n",
       "      <td>610268.0</td>\n",
       "      <td>GB</td>\n",
       "      <td>1</td>\n",
       "      <td>Glasgow</td>\n",
       "      <td>Glasgow</td>\n",
       "      <td>595800</td>\n",
       "      <td>Europe/London</td>\n",
       "      <td>517</td>\n",
       "      <td>UK004C</td>\n",
       "      <td>(POLYGON ((-4.179461299255363 55.9021452000697...</td>\n",
       "    </tr>\n",
       "    <tr>\n",
       "      <th>38</th>\n",
       "      <td>United Kingdom</td>\n",
       "      <td>GBR</td>\n",
       "      <td>West Yorkshire</td>\n",
       "      <td>0.0</td>\n",
       "      <td>Populated place</td>\n",
       "      <td>2654993.0</td>\n",
       "      <td>Bradford</td>\n",
       "      <td>299310.0</td>\n",
       "      <td>GB</td>\n",
       "      <td>0</td>\n",
       "      <td>Bradford</td>\n",
       "      <td>Bradford</td>\n",
       "      <td>525500</td>\n",
       "      <td>Europe/London</td>\n",
       "      <td>0</td>\n",
       "      <td>UK005C</td>\n",
       "      <td>(POLYGON ((-1.727166300082158 53.9102367003719...</td>\n",
       "    </tr>\n",
       "    <tr>\n",
       "      <th>39</th>\n",
       "      <td>United Kingdom</td>\n",
       "      <td>GBR</td>\n",
       "      <td>Merseyside</td>\n",
       "      <td>0.0</td>\n",
       "      <td>Populated place</td>\n",
       "      <td>2644210.0</td>\n",
       "      <td>Liverpool</td>\n",
       "      <td>468945.0</td>\n",
       "      <td>GB</td>\n",
       "      <td>1</td>\n",
       "      <td>Liverpool</td>\n",
       "      <td>Liverpool</td>\n",
       "      <td>470200</td>\n",
       "      <td>Europe/London</td>\n",
       "      <td>518</td>\n",
       "      <td>UK006C</td>\n",
       "      <td>(POLYGON ((-2.922384799456426 53.4749222001516...</td>\n",
       "    </tr>\n",
       "    <tr>\n",
       "      <th>40</th>\n",
       "      <td>United Kingdom</td>\n",
       "      <td>GBR</td>\n",
       "      <td>Manchester</td>\n",
       "      <td>0.0</td>\n",
       "      <td>Populated place</td>\n",
       "      <td>2643123.0</td>\n",
       "      <td>Manchester</td>\n",
       "      <td>395515.0</td>\n",
       "      <td>GB</td>\n",
       "      <td>1</td>\n",
       "      <td>Manchester</td>\n",
       "      <td>Manchester</td>\n",
       "      <td>238000</td>\n",
       "      <td>Europe/London</td>\n",
       "      <td>520</td>\n",
       "      <td>UK522C</td>\n",
       "      <td>(POLYGON ((-2.338207799440474 53.5336762001528...</td>\n",
       "    </tr>\n",
       "  </tbody>\n",
       "</table>\n",
       "</div>"
      ],
      "text/plain": [
       "          ADM0NAME ADM0_A3                    ADM1NAME  ELEVATION  \\\n",
       "0      Switzerland     CHE                      ZHrich        0.0   \n",
       "1   Czech Republic     CZE                      Prague      308.0   \n",
       "2         Bulgaria     BGR                 Grad Sofiya        0.0   \n",
       "3          Austria     AUT                        Wien      171.0   \n",
       "4          Belgium     BEL                    Brussels        0.0   \n",
       "5          Germany     DEU                      Berlin       74.0   \n",
       "6          Germany     DEU                     Hamburg        0.0   \n",
       "7          Germany     DEU                      Bayern        0.0   \n",
       "8          Germany     DEU         Nordrhein-Westfalen        0.0   \n",
       "9          Germany     DEU                      Hessen        0.0   \n",
       "10         Germany     DEU                     Baden-W        0.0   \n",
       "11         Germany     DEU         Nordrhein-Westfalen        0.0   \n",
       "12         Germany     DEU         Nordrhein-Westfalen        0.0   \n",
       "13           Spain     ESP         Comunidad de Madrid        0.0   \n",
       "14           Spain     ESP                    Cataluma       15.0   \n",
       "15           Spain     ESP        Comunidad Valenciana       15.0   \n",
       "16           Spain     ESP                   Andaluc a        0.0   \n",
       "17          France     FRA               Fle-de-France        0.0   \n",
       "18          France     FRA  Provence-Alpes-C-te-d'Azur        0.0   \n",
       "19         Ireland     IRL                      Dublin        0.0   \n",
       "20           Italy     ITA                       Lazio      187.0   \n",
       "21           Italy     ITA                   Lombardia      120.0   \n",
       "22           Italy     ITA                    Campania        0.0   \n",
       "23           Italy     ITA                    Piemonte      240.0   \n",
       "24         Hungary     HUN                    Budapest        0.0   \n",
       "25          Norway     NOR                        Oslo        0.0   \n",
       "26          Poland     POL                    Masovian        0.0   \n",
       "27     Netherlands     NLD                Zuid-Holland        0.0   \n",
       "28     Netherlands     NLD               Noord-Holland        0.0   \n",
       "29     Netherlands     NLD                Zuid-Holland        0.0   \n",
       "30          Poland     POL                    Silesian        0.0   \n",
       "31        Portugal     PRT                      Lisboa        0.0   \n",
       "32        Portugal     PRT                       Porto        0.0   \n",
       "33         Romania     ROU                   Bucharest        0.0   \n",
       "34          Sweden     SWE                   Stockholm        0.0   \n",
       "35  United Kingdom     GBR               West Midlands        0.0   \n",
       "36  United Kingdom     GBR              West Yorkshire        0.0   \n",
       "37  United Kingdom     GBR                     Glasgow        0.0   \n",
       "38  United Kingdom     GBR              West Yorkshire        0.0   \n",
       "39  United Kingdom     GBR                  Merseyside        0.0   \n",
       "40  United Kingdom     GBR                  Manchester        0.0   \n",
       "\n",
       "                FEATURECLA  GEONAMEID           GN_ASCII     GN_POP ISO_A2  \\\n",
       "0          Admin-1 capital  2657896.0             Zurich   341730.0     CH   \n",
       "1          Admin-0 capital  4548393.0             Prague     2087.0     CZ   \n",
       "2          Admin-0 capital   727011.0              Sofia  1152556.0     BG   \n",
       "3          Admin-0 capital  2761369.0             Vienna  1691468.0     AT   \n",
       "4          Admin-0 capital  2800866.0           Brussels  1019022.0     BE   \n",
       "5          Admin-0 capital  2950159.0             Berlin  3426354.0     DE   \n",
       "6          Admin-1 capital  2911298.0            Hamburg  1739117.0     DE   \n",
       "7          Admin-1 capital  2867714.0           Muenchen  1260391.0     DE   \n",
       "8          Populated place  2886242.0              Koeln   963395.0     DE   \n",
       "9          Populated place  2925533.0  Frankfurt am Main   650000.0     DE   \n",
       "10         Admin-1 capital  2825297.0          Stuttgart   589793.0     DE   \n",
       "11         Admin-1 capital  2934246.0         Dusseldorf   573057.0     DE   \n",
       "12         Populated place  2946447.0               Bonn   313125.0     DE   \n",
       "13         Admin-0 capital  3675707.0             Madrid    50437.0     ES   \n",
       "14         Admin-1 capital  3128760.0          Barcelona  1581595.0     ES   \n",
       "15         Admin-1 capital  2509954.0           Valencia   805304.0     ES   \n",
       "16         Admin-1 capital  2510911.0            Sevilla   701894.0     ES   \n",
       "17         Admin-0 capital  6942553.0              Paris    11177.0     FR   \n",
       "18  Admin-1 region capital  2995469.0          Marseille   794811.0     FR   \n",
       "19         Admin-0 capital  2964574.0             Dublin  1024027.0     IE   \n",
       "20         Admin-0 capital  4219762.0               Rome    35452.0     IT   \n",
       "21  Admin-1 region capital  3173435.0             Milano  1306661.0     IT   \n",
       "22  Admin-1 region capital  3172394.0             Napoli   988972.0     IT   \n",
       "23  Admin-1 region capital  3165524.0             Torino   865263.0     IT   \n",
       "24         Admin-0 capital  3054643.0           Budapest  1696128.0     HU   \n",
       "25         Admin-0 capital  3143244.0               Oslo   580000.0     NO   \n",
       "26         Admin-0 capital   756135.0             Warsaw  1702139.0     PL   \n",
       "27     Admin-0 capital alt  2747373.0           Den Haag   474292.0     NL   \n",
       "28         Admin-0 capital  2759794.0          Amsterdam   741636.0     NL   \n",
       "29         Populated place  2747891.0          Rotterdam   598199.0     NL   \n",
       "30         Admin-1 capital  3096472.0           Katowice   317316.0     PL   \n",
       "31         Admin-0 capital  2267057.0             Lisbon   517802.0     PT   \n",
       "32         Admin-1 capital  2735943.0              Porto   249633.0     PT   \n",
       "33         Admin-0 capital   683506.0          Bucuresti  1877155.0     RO   \n",
       "34         Admin-0 capital  2673730.0          Stockholm  1253309.0     SE   \n",
       "35         Populated place  2655603.0         Birmingham   984333.0     GB   \n",
       "36         Populated place  2644688.0              Leeds   455123.0     GB   \n",
       "37         Populated place  2648579.0            Glasgow   610268.0     GB   \n",
       "38         Populated place  2654993.0           Bradford   299310.0     GB   \n",
       "39         Populated place  2644210.0          Liverpool   468945.0     GB   \n",
       "40         Populated place  2643123.0         Manchester   395515.0     GB   \n",
       "\n",
       "    MEGACITY        NAME   NAMEASCII POPEU2013          TIMEZONE  UN_FID  \\\n",
       "0          1      Zurich      Zurich    380777     Europe/Zurich     468   \n",
       "1          1      Prague      Prague   1243201     Europe/Prague     173   \n",
       "2          1       Sofia       Sofia   1213542      Europe/Sofia       0   \n",
       "3          1      Vienna      Vienna   1741246     Europe/Vienna     321   \n",
       "4          1    Brussels    Brussels   1174624   Europe/Brussels     384   \n",
       "5          1      Berlin      Berlin   3375222     Europe/Berlin     192   \n",
       "6          1     Hamburg     Hamburg   1734272     Europe/Berlin     193   \n",
       "7          1      Munich      Munich   1388308     Europe/Berlin     195   \n",
       "8          1     Cologne     Cologne   1024373     Europe/Berlin     194   \n",
       "9          0   Frankfurt   Frankfurt    687775     Europe/Berlin       0   \n",
       "10         0   Stuttgart   Stuttgart    597939     Europe/Berlin       0   \n",
       "11         0  Ddsseldorf  Dusseldorf    593682     Europe/Berlin       0   \n",
       "12         0        Bonn        Bonn    309869     Europe/Berlin       0   \n",
       "13         1      Madrid      Madrid   3207247    America/Bogota     464   \n",
       "14         1   Barcelona   Barcelona   1611822     Europe/Madrid     463   \n",
       "15         1    Valencia    Valencia    792303     Europe/Madrid     465   \n",
       "16         0     Seville     Seville    700169     Europe/Madrid       0   \n",
       "17         1       Paris       Paris   2240681   America/Toronto     189   \n",
       "18         1   Marseille   Marseille   1045805      Europe/Paris     187   \n",
       "19         1      Dublin      Dublin    516255     Europe/Dublin     302   \n",
       "20         1        Rome        Rome   2638842  America/New_York     308   \n",
       "21         1       Milan       Milan   1262101       Europe/Rome     305   \n",
       "22         1      Naples      Naples    959052       Europe/Rome     306   \n",
       "23         1       Turin       Turin    872091       Europe/Rome     309   \n",
       "24         1    Budapest    Budapest   1735711   Europe/Budapest     211   \n",
       "25         1        Oslo        Oslo    623966       Europe/Oslo     397   \n",
       "26         1      Warsaw      Warsaw   1724404     Europe/Warsaw     418   \n",
       "27         0   The Hague   The Hague    505856  Europe/Amsterdam       0   \n",
       "28         1   Amsterdam   Amsterdam    799278  Europe/Amsterdam     379   \n",
       "29         1   Rotterdam   Rotterdam    616294  Europe/Amsterdam     380   \n",
       "30         0    Katowice    Katowice    304362     Europe/Warsaw       0   \n",
       "31         1      Lisbon      Lisbon    524282     Europe/Lisbon     419   \n",
       "32         1       Porto       Porto    227535     Europe/Lisbon     420   \n",
       "33         1   Bucharest   Bucharest   2134030  Europe/Bucharest     422   \n",
       "34         1   Stockholm   Stockholm    864324  Europe/Stockholm     467   \n",
       "35         1  Birmingham  Birmingham   1088900     Europe/London     516   \n",
       "36         1       Leeds       Leeds    759600     Europe/London     522   \n",
       "37         1     Glasgow     Glasgow    595800     Europe/London     517   \n",
       "38         0    Bradford    Bradford    525500     Europe/London       0   \n",
       "39         1   Liverpool   Liverpool    470200     Europe/London     518   \n",
       "40         1  Manchester  Manchester    238000     Europe/London     520   \n",
       "\n",
       "   URAU_CITY_                                           geometry  \n",
       "0      CH001C  (POLYGON ((8.510730700635937 47.43218569956764...  \n",
       "1      CZ001C  (POLYGON ((14.53235520019044 50.17216119994004...  \n",
       "2      BG001C  (POLYGON ((23.60710369970358 42.84173220006568...  \n",
       "3      AT001C  (POLYGON ((16.46820069992615 48.27959820028182...  \n",
       "4      BE001C  (POLYGON ((4.427633699359439 50.89966620011072...  \n",
       "5      DE001C  (POLYGON ((13.49526520036133 52.65290419998798...  \n",
       "6      DE002C  (POLYGON ((10.19165569992891 53.72275170029032...  \n",
       "7      DE003C  (POLYGON ((11.55337401055753 48.22473089997777...  \n",
       "8      DE004C  (POLYGON ((6.921840199711727 51.05242920025606...  \n",
       "9      DE005C  (POLYGON ((8.734014699699106 50.2158512004787,...  \n",
       "10     DE007C  (POLYGON ((9.229879699650418 48.8547326999665,...  \n",
       "11     DE011C  (POLYGON ((6.776406700313998 51.3438377002807,...  \n",
       "12     DE034C  (POLYGON ((7.135130199973568 50.77132070013705...  \n",
       "13     ES001C  (POLYGON ((-3.616587800592957 40.6070862001142...  \n",
       "14     ES002C  (POLYGON ((2.190634201275362 41.4575772000017,...  \n",
       "15     ES003C  (POLYGON ((-0.367287633037565 39.5044913569018...  \n",
       "16     ES004C  (POLYGON ((-5.916812799437431 37.4476132005512...  \n",
       "17     FR001C  (POLYGON ((2.39488770191454 48.89844169977041,...  \n",
       "18     FR203C  (POLYGON ((5.269502504927321 43.41610334017204...  \n",
       "19     IE001C  (POLYGON ((-6.26849730049253 53.40250019993692...  \n",
       "20     IT001C  (POLYGON ((12.37293620154451 42.05524469987723...  \n",
       "21     IT002C  (POLYGON ((9.174862200618314 45.53622120001347...  \n",
       "22     IT003C  (POLYGON ((14.27066820167066 40.8915597000308,...  \n",
       "23     IT004C  (POLYGON ((7.690229700591671 45.13267170026489...  \n",
       "24     HU001C  (POLYGON ((19.15379920044778 47.58494220030077...  \n",
       "25     NO001C  (POLYGON ((10.61905670082836 60.13518169960512...  \n",
       "26     PL001C  (POLYGON ((21.08172620163878 52.3541871998616,...  \n",
       "27     NL001C  (POLYGON ((4.333187699743744 52.10577770039392...  \n",
       "28     NL002C  (POLYGON ((4.739188699894128 52.43122119976331...  \n",
       "29     NL003C  (POLYGON ((4.132303699646429 51.99545669969921...  \n",
       "30     PL010C  (POLYGON ((19.10875170086361 50.15949270047653...  \n",
       "31     PT001C  (POLYGON ((-9.152217799434739 38.7944987000479...  \n",
       "32     PT002C  (POLYGON ((-8.641595799919461 41.1843607002404...  \n",
       "33     RO001C  (POLYGON ((25.97658170026297 44.40754719999584...  \n",
       "34     SE001C  (POLYGON ((17.92986320036552 59.37578219971166...  \n",
       "35     UK002C  (POLYGON ((-1.753495299571661 52.5129742000670...  \n",
       "36     UK003C  (POLYGON ((-1.303225300020394 53.7421151999979...  \n",
       "37     UK004C  (POLYGON ((-4.179461299255363 55.9021452000697...  \n",
       "38     UK005C  (POLYGON ((-1.727166300082158 53.9102367003719...  \n",
       "39     UK006C  (POLYGON ((-2.922384799456426 53.4749222001516...  \n",
       "40     UK522C  (POLYGON ((-2.338207799440474 53.5336762001528...  "
      ]
     },
     "execution_count": 28,
     "metadata": {},
     "output_type": "execute_result"
    }
   ],
   "source": [
    "# * find out what the schema for the data is?\n",
    "geo_df"
   ]
  },
  {
   "cell_type": "code",
   "execution_count": 29,
   "metadata": {
    "collapsed": false,
    "solution2": "hidden"
   },
   "outputs": [
    {
     "data": {
      "text/plain": [
       "<matplotlib.axes._subplots.AxesSubplot at 0x7f95039bdb50>"
      ]
     },
     "execution_count": 29,
     "metadata": {},
     "output_type": "execute_result"
    },
    {
     "data": {
      "text/plain": [
       "<matplotlib.figure.Figure at 0x7f95039bd9d0>"
      ]
     },
     "metadata": {},
     "output_type": "display_data"
    },
    {
     "data": {
      "image/png": "[encoded data removed]",
      "text/plain": [
       "<matplotlib.figure.Figure at 0x7f9530ed6d50>"
      ]
     },
     "metadata": {},
     "output_type": "display_data"
    }
   ],
   "source": [
    "# * plot the geometries?\n",
    "plt.figure(figsize=(18, 20))\n",
    "geo_df.plot()"
   ]
  },
  {
   "cell_type": "code",
   "execution_count": 30,
   "metadata": {
    "collapsed": false,
    "solution2": "hidden"
   },
   "outputs": [
    {
     "data": {
      "text/plain": [
       "'MULTIPOLYGON (((8.5107307006359374 47.4321856995676399, 8.5246681998049585 47.4311641999393530, 8.5279242498929904 47.4326966806219446, 8.5435582019448226 47.4313431999938118, 8.5608377004806098 47.4184912001672032, 8.5632735628667263 47.4156632293667926, 8.5737861801280708 47.4113305375014278, 8.5877069538468671 47.4077497929542346, 8.5963697001261359 47.4056056998658448, 8.5946962009991807 47.3992081997123691, 8.5914807016822898 47.3970187004059866, 8.5881711997520256 47.3957447000301570, 8.5843452009833427 47.3918312003193023, 8.5830547017165344 47.3890491998953536, 8.5843612005403820 47.3883292000408147, 8.5851962017993984 47.3903277000466971, 8.5869666988020050 47.3901596998208490, 8.5930737000196906 47.3856432003684560, 8.5972052005078954 47.3784982000405037, 8.6036348410599501 47.3704819748861894, 8.6119942007658352 47.3669092004074415, 8.6216682005123886 47.3599741997193746, 8.6247997018888363 47.3543931996826970, 8.6220897006959447 47.3534011996904667, 8.6051131999004156 47.3536037000353218, 8.5867777018500764 47.3528596999492208, 8.5864354183953768 47.3526889350200264, 8.5845105777782411 47.3517285917810895, 8.5699070202195777 47.3467946791644252, 8.5657459632758499 47.3467780496550574, 8.5625097012227886 47.3456917004619342, 8.5614942016163837 47.3473436997809927, 8.5582056999379770 47.3507996999851670, 8.5563412017048908 47.3521042000933434, 8.5512046997419251 47.3526537001704639, 8.5504856993400686 47.3533746999931893, 8.5471307015896532 47.3588337001518269, 8.5455382880049786 47.3639849772393973, 8.5395533166114586 47.3649382489718676, 8.5362926502815579 47.3521106463258548, 8.5434017011876691 47.3360942002676737, 8.5362352000869564 47.3301472003446406, 8.5326597004405986 47.3278657003080667, 8.5297451982140799 47.3260612002231866, 8.5237502011322004 47.3242416997377120, 8.5031186994526404 47.3202287002634705, 8.5006296994727588 47.3226967000464072, 8.5006236987786572 47.3311082000383010, 8.5011636996822499 47.3352741998790805, 8.5020297000775642 47.3365517003085259, 8.4976237012950246 47.3420911996745346, 8.4868912012545756 47.3526882001903857, 8.4820221355568233 47.3593225015966652, 8.4710142010772778 47.3615112002477403, 8.4642696991087636 47.3667376997514111, 8.4641581994874677 47.3683701999848452, 8.4698516565800492 47.3739106058209529, 8.4675942019025392 47.3735771996175501, 8.4505482010863116 47.3783301999199296, 8.4480332005873322 47.3801996998184549, 8.4575872015506555 47.3836557002970551, 8.4673462015471674 47.3930667001972665, 8.4670655647380162 47.4018697237552473, 8.4781317014814501 47.4038737000799699, 8.4772407018830283 47.4119377001503821, 8.4739331988038487 47.4122277001774179, 8.4727221999996534 47.4106866999728993, 8.4680786998457442 47.4133762002130936, 8.4691981981211057 47.4169086995861448, 8.4778536994753146 47.4221192001056338, 8.4817557011429319 47.4230121998416720, 8.4885351997618237 47.4226992001298058, 8.4902144062933278 47.4225576846277690, 8.4847411999841178 47.4281771996311790, 8.4854746996715864 47.4310416998397315, 8.5014677007153168 47.4348717001352043, 8.5107307006359374 47.4321856995676399)))'"
      ]
     },
     "execution_count": 30,
     "metadata": {},
     "output_type": "execute_result"
    }
   ],
   "source": [
    "# * print out the wkt version of the geometries\n",
    "wkts = map(lambda g: g.to_wkt() , geo_df.geometry)\n",
    "wkts[0]"
   ]
  },
  {
   "cell_type": "code",
   "execution_count": 31,
   "metadata": {
    "collapsed": false,
    "solution2": "hidden"
   },
   "outputs": [
    {
     "data": {
      "text/plain": [
       "{'init': u'epsg:4258'}"
      ]
     },
     "execution_count": 31,
     "metadata": {},
     "output_type": "execute_result"
    }
   ],
   "source": [
    "# * find out the Spatial Reference System (CRS/SRS) for the GeoDataframe?\n",
    "# A note about CRS's and Geospatial Data.\n",
    "# http://spatialreference.org/ref/epsg/etrs89-etrs-laea/\n",
    "geo_df.crs"
   ]
  },
  {
   "cell_type": "code",
   "execution_count": 32,
   "metadata": {
    "collapsed": false,
    "scrolled": true,
    "solution2": "hidden"
   },
   "outputs": [
    {
     "name": "stdout",
     "output_type": "stream",
     "text": [
      "{'init': 'epsg:3035', 'no_defs': True}\n",
      "{'init': u'epsg:4258'}\n"
     ]
    },
    {
     "data": {
      "text/plain": [
       "12698.48169962045"
      ]
     },
     "execution_count": 32,
     "metadata": {},
     "output_type": "execute_result"
    }
   ],
   "source": [
    "# * change the reference system to a cartesian system that is suitable for calculating areas\n",
    "# * calculate the total area of the cities we are using \n",
    "#   HINT: Europe using this CRS: http://spatialreference.org/ref/epsg/3035/\n",
    "geo_df_cartesian = geo_df.to_crs(epsg=3035)\n",
    "print geo_df_cartesian.crs\n",
    "print geo_df.crs\n",
    "geo_df_cartesian.area.sum()/1000000"
   ]
  },
  {
   "cell_type": "code",
   "execution_count": 33,
   "metadata": {
    "collapsed": false
   },
   "outputs": [],
   "source": [
    "# Add a WKT column for use later\n",
    "geo_df['wkt'] = pandas.Series(\n",
    "    map(lambda geom: str(geom.to_wkt()), geo_df['geometry']), \n",
    "    index=geo_df.index, dtype='string')"
   ]
  },
  {
   "cell_type": "markdown",
   "metadata": {},
   "source": [
    "## Create a pyspark dataframe from GeoPanadas\n",
    "\n",
    "Spark Dataframes are an abstraction over RDDs. Lets look at what happens when we call pyspark transform and action. \n",
    "\n",
    "**SLIDES Switch: Spark Internals**\n",
    "\n",
    "![](images/pyspark.png)"
   ]
  },
  {
   "cell_type": "code",
   "execution_count": 34,
   "metadata": {
    "collapsed": false
   },
   "outputs": [
    {
     "data": {
      "image/svg+xml": [
       "<svg xmlns=\"http://www.w3.org/2000/svg\" xmlns:xlink=\"http://www.w3.org/1999/xlink\" width=\"100.0\" height=\"100.0\" viewBox=\"13.0604720605 52.31195556 0.726614278953 0.391065780523\" preserveAspectRatio=\"xMinYMin meet\"><g transform=\"matrix(1,0,0,-1,0,105.014976901)\"><g><path fill-rule=\"evenodd\" fill=\"#66cc99\" stroke=\"#555555\" stroke-width=\"0.0145322855791\" opacity=\"0.6\" d=\"M 13.4952652004,52.6529042 L 13.5106526999,52.6453247003 L 13.5147562006,52.6460266998 L 13.5184672008,52.6473697001 L 13.5216082001,52.6437722005 L 13.5219212005,52.6404422002 L 13.5172472007,52.6300507005 L 13.5055782007,52.6261712002 L 13.504666249,52.6215015974 L 13.5042706994,52.6203577006 L 13.5006812,52.6138236999 L 13.4981186995,52.6105842006 L 13.4967387,52.6051826999 L 13.4972772456,52.6052428439 L 13.4996037,52.6047707004 L 13.5092117006,52.5922816997 L 13.5147771994,52.5927777001 L 13.5230731998,52.5928232002 L 13.5403176994,52.5897142001 L 13.5496846998,52.5870747004 L 13.5534077,52.5859567005 L 13.5564071996,52.5843882 L 13.5616836994,52.5805017006 L 13.5685647003,52.5732116999 L 13.5758201998,52.5678217001 L 13.5826806994,52.5674592003 L 13.5843097005,52.5627482002 L 13.5844151196,52.5605825674 L 13.5867572717,52.5510789528 L 13.5860826995,52.5497172006 L 13.6103452006,52.5459827003 L 13.6211837241,52.5282075873 L 13.6233840712,52.5283326343 L 13.6252652003,52.5304567001 L 13.6400146994,52.5307811998 L 13.6568012008,52.5300296999 L 13.6588222003,52.5257762005 L 13.6404772007,52.5170976998 L 13.6376231997,52.5152207005 L 13.6331562001,52.5111581998 L 13.629007823,52.5049109418 L 13.6268082003,52.4932526998 L 13.6156391995,52.4813807002 L 13.6138477,52.4758952003 L 13.6156151995,52.4751172002 L 13.6121943402,52.4720901894 L 13.6115237,52.4714966998 L 13.6220352001,52.4683956997 L 13.6285991998,52.4735831998 L 13.6426886997,52.4800037004 L 13.6566716997,52.4764556998 L 13.6680421995,52.4747052004 L 13.6742347004,52.4711117 L 13.6824981995,52.4662937002 L 13.6976852007,52.4552191998 L 13.7291061996,52.4506107005 L 13.7516612007,52.4477422004 L 13.7541371997,52.4471057002 L 13.7575292004,52.4429131999 L 13.7601746995,52.4384232002 L 13.7599137002,52.4374012006 L 13.7593726993,52.4363862 L 13.7543232004,52.4366227002 L 13.7555371998,52.4419977005 L 13.7519932008,52.4420131999 L 13.7446017,52.4399382004 L 13.7311241999,52.4210397002 L 13.7300587,52.4178812006 L 13.7297031998,52.4163052004 L 13.7301142004,52.4147797003 L 13.7334777003,52.4124756998 L 13.7369387002,52.4100341999 L 13.7394671999,52.4074251998 L 13.7347121999,52.4020046998 L 13.7339602001,52.4011692005 L 13.7307961995,52.3999141998 L 13.7237722004,52.3984072005 L 13.7184566996,52.3988612002 L 13.7173977005,52.3999752005 L 13.7116969889,52.3973708918 L 13.7088722007,52.3960801997 L 13.7052401998,52.3948822 L 13.6894192004,52.3856927001 L 13.6989832001,52.3823016999 L 13.7012027003,52.3781436999 L 13.7000541999,52.3746377005 L 13.6970407004,52.3714792005 L 13.6933861997,52.3680917 L 13.6917546998,52.3676457001 L 13.6878137005,52.3675042001 L 13.6829042,52.3700747001 L 13.6812666996,52.3698731998 L 13.6794892008,52.3694497002 L 13.6713966994,52.3662837003 L 13.6676606999,52.3633957 L 13.6575101996,52.3518566999 L 13.6529627,52.3444787004 L 13.6517276994,52.3420487 L 13.6514522004,52.3397792001 L 13.6501637005,52.3390507004 L 13.6471491998,52.3388672 L 13.6421722007,52.3411752004 L 13.6373682,52.3454057004 L 13.6369727002,52.3461992 L 13.6365836994,52.3527492 L 13.6371177003,52.3576852002 L 13.6378282,52.3594097003 L 13.6387647005,52.3605197001 L 13.6477871998,52.3666766999 L 13.6465886997,52.3707582001 L 13.6428312002,52.3779181999 L 13.6287912004,52.3815081997 L 13.6065342004,52.3789371998 L 13.6059191996,52.3802032004 L 13.5941346994,52.3926852002 L 13.5921397004,52.3943941999 L 13.5632301998,52.3882637006 L 13.5409107005,52.3889352001 L 13.5371666996,52.3894082005 L 13.5353901998,52.3902742006 L 13.5351296999,52.3916627001 L 13.5370341997,52.4003977005 L 13.517799128,52.4022912025 L 13.5153372002,52.4014176997 L 13.5021766997,52.3994027006 L 13.4799531998,52.3960761999 L 13.4787867005,52.3998296999 L 13.4777746999,52.4030076999 L 13.4671872007,52.4213757004 L 13.467186773,52.4213756328 L 13.4671630483,52.4213718705 L 13.4606533108,52.4203395048 L 13.4587191997,52.4200326998 L 13.4337351998,52.4129412006 L 13.4209417124,52.410417442 L 13.4203931995,52.4103092 L 13.4188377004,52.4094552 L 13.4181662007,52.4077912002 L 13.4186307004,52.4057732 L 13.4267467001,52.3881417001 L 13.4271946998,52.3860857005 L 13.4262541998,52.3833542001 L 13.4220507001,52.3777432006 L 13.4207882006,52.3764041999 L 13.4194911996,52.3762741998 L 13.3877907003,52.3778462 L 13.3867793566,52.3882297215 L 13.3699007002,52.3886607005 L 13.3715232007,52.3936046998 L 13.3546351999,52.4005471999 L 13.3429157005,52.4079707005 L 13.3427116994,52.4114152006 L 13.3120112007,52.3995632002 L 13.2972757007,52.4126511999 L 13.2967997004,52.4159622 L 13.2733281999,52.4042897002 L 13.2709919465,52.4042573797 L 13.2672271995,52.4042052002 L 13.2580742001,52.4063072002 L 13.2458242,52.4200707005 L 13.2441922007,52.4211007004 L 13.2251778869,52.420807189 L 13.1962602003,52.4153061998 L 13.1879337213,52.4124054568 L 13.1599921997,52.4026642003 L 13.1581967006,52.3963702003 L 13.1708796997,52.3982087004 L 13.1698562004,52.3961567003 L 13.1667701995,52.3950312006 L 13.1563597001,52.3946917002 L 13.1406397002,52.3957787005 L 13.1313516998,52.3893357002 L 13.1286916874,52.3892046923 L 13.1312886994,52.3909606999 L 13.1383717004,52.3961067 L 13.1352054386,52.3988098457 L 13.1329902008,52.3994216999 L 13.1070302602,52.408270093 L 13.1103632008,52.4099161999 L 13.1097462006,52.4116746999 L 13.1086456997,52.4129337004 L 13.1058301997,52.4126017001 L 13.1002546484,52.4112136323 L 13.0976301451,52.4098537081 L 13.0895061997,52.4121707005 L 13.0892144594,52.4132037972 L 13.0889963671,52.4139760583 L 13.0873837004,52.4196856998 L 13.1034966994,52.4245037002 L 13.1119102,52.4293327003 L 13.1125777001,52.4324801998 L 13.1221437007,52.4392281998 L 13.1196689725,52.4413333374 L 13.1162027015,52.4461597004 L 13.1100741994,52.4504777001 L 13.1133702019,52.4685672 L 13.1153911993,52.4716646998 L 13.1261342004,52.4791756998 L 13.1299337005,52.4809646996 L 13.1568567002,52.5006447001 L 13.1676697003,52.5085377001 L 13.1632682007,52.5108647002 L 13.1584625647,52.5127406469 L 13.1447061995,52.5181087002 L 13.1170722006,52.5176697004 L 13.1166947004,52.5237237004 L 13.1188927003,52.5302012004 L 13.1278346996,52.5524677002 L 13.1305601998,52.5558552004 L 13.1343212005,52.5536006998 L 13.1381341997,52.5522617003 L 13.1416457005,52.5517657003 L 13.1444226999,52.5525782005 L 13.1455706489,52.553284597 L 13.1458962001,52.5598492006 L 13.1477872006,52.5650712002 L 13.1502612007,52.5677341998 L 13.1530147004,52.5726777003 L 13.1530231998,52.5769007006 L 13.1486037004,52.5833361999 L 13.1413367002,52.5807347003 L 13.1320146997,52.5791092003 L 13.1276407006,52.5834352004 L 13.1285067,52.5872652004 L 13.1291137006,52.5879252003 L 13.1561207008,52.5975876998 L 13.1644776999,52.5987587003 L 13.1839327007,52.5934487002 L 13.1916917004,52.5900806998 L 13.2063971994,52.5866127002 L 13.2068874239,52.5870925987 L 13.2172102005,52.5875931998 L 13.2185221995,52.5912821998 L 13.2182791994,52.5926057001 L 13.2167701997,52.5940936997 L 13.2110227004,52.5970192004 L 13.2031882004,52.6030392003 L 13.2015991994,52.6048432002 L 13.2012046996,52.6060602004 L 13.2018072001,52.6070637004 L 13.2213097008,52.6283151998 L 13.2563861995,52.6277772 L 13.2637772079,52.6275103135 L 13.2641566994,52.6329617005 L 13.2697326999,52.6398202002 L 13.2819217006,52.6409191997 L 13.2830566997,52.6519167001 L 13.2842236995,52.6594696999 L 13.3040886997,52.6594967006 L 13.3068592005,52.6567612005 L 13.3078272006,52.6307601997 L 13.3078431998,52.6298066999 L 13.3065531998,52.6291466999 L 13.303978664,52.6285319892 L 13.3014062004,52.6279176999 L 13.3324476996,52.6234322005 L 13.3366302004,52.6225662002 L 13.3686012002,52.6263242003 L 13.3762837004,52.6297077003 L 13.3758557001,52.6315807005 L 13.3790192002,52.6344836998 L 13.3936481997,52.6471902003 L 13.3970537003,52.6483537005 L 13.3983157,52.6476096999 L 13.4067291995,52.6427117003 L 13.4181742005,52.6384586997 L 13.4232396995,52.6366006999 L 13.4266142002,52.6376761999 L 13.4328016996,52.6380771999 L 13.4342662008,52.6453471999 L 13.4515307008,52.6629677005 L 13.4613727001,52.6704142006 L 13.4746632001,52.6761097006 L 13.4884541997,52.6712006999 L 13.4860497002,52.6661532002 L 13.4843267004,52.6589207001 L 13.4952652004,52.6529042 z\" /></g></g></svg>"
      ],
      "text/plain": [
       "<shapely.geometry.multipolygon.MultiPolygon at 0x7f9500454ad0>"
      ]
     },
     "execution_count": 34,
     "metadata": {},
     "output_type": "execute_result"
    }
   ],
   "source": [
    "# https://spark.apache.org/docs/latest/api/python/pyspark.sql.html#pyspark.sql.SQLContext.createDataFrame\n",
    "# Creates a DataFrame from an RDD of tuple/list, list or pandas.DataFrame.\n",
    "\n",
    "# When schema is a list of column names, the type of each column will be inferred from data.\n",
    "\n",
    "# When schema is None, it will try to infer the schema (column names and types) from data, which should\n",
    "# be an RDD of Row, or namedtuple, or dict.\n",
    "\n",
    "# If schema inference is needed, samplingRatio is used to determined the ratio of rows used for schema inference.\n",
    "# The first row will be used if samplingRatio is None.\n",
    "\n",
    "# Parameters:\n",
    "# data – an RDD of Row/tuple/list/dict, list, or pandas.DataFrame.\n",
    "# schema – a StructType or list of column names. default None.\n",
    "# samplingRatio – the sample ratio of rows used for inferring\n",
    "# Returns:\n",
    "# DataFrame\n",
    "\n",
    "boundries_from_pd = sqlContext.createDataFrame(geo_df)\n",
    "\n",
    "# Lets find Berlin\n",
    "berlin_rdd = boundries_from_pd.filter(boundries_from_pd.NAMEASCII == 'Berlin')\n",
    "wkt.loads(berlin_rdd.take(1)[0].wkt)"
   ]
  },
  {
   "cell_type": "markdown",
   "metadata": {
    "solution2": "hidden",
    "solution2_first": true
   },
   "source": [
    "### Exercise \n",
    "\n",
    "* Look at the schema of the boundries_from_pd\n",
    "* Graph the name of the city and its population sorted\n"
   ]
  },
  {
   "cell_type": "code",
   "execution_count": 35,
   "metadata": {
    "code_folding": [],
    "collapsed": false,
    "solution2": "hidden"
   },
   "outputs": [
    {
     "name": "stdout",
     "output_type": "stream",
     "text": [
      "root\n",
      " |-- ADM0NAME: string (nullable = true)\n",
      " |-- ADM0_A3: string (nullable = true)\n",
      " |-- ADM1NAME: string (nullable = true)\n",
      " |-- ELEVATION: double (nullable = true)\n",
      " |-- FEATURECLA: string (nullable = true)\n",
      " |-- GEONAMEID: double (nullable = true)\n",
      " |-- GN_ASCII: string (nullable = true)\n",
      " |-- GN_POP: double (nullable = true)\n",
      " |-- ISO_A2: string (nullable = true)\n",
      " |-- MEGACITY: long (nullable = true)\n",
      " |-- NAME: string (nullable = true)\n",
      " |-- NAMEASCII: string (nullable = true)\n",
      " |-- POPEU2013: string (nullable = true)\n",
      " |-- TIMEZONE: string (nullable = true)\n",
      " |-- UN_FID: long (nullable = true)\n",
      " |-- URAU_CITY_: string (nullable = true)\n",
      " |-- geometry: struct (nullable = true)\n",
      " |    |-- __geom__: long (nullable = true)\n",
      " |    |-- _is_empty: boolean (nullable = true)\n",
      " |    |-- _ndim: long (nullable = true)\n",
      " |-- wkt: string (nullable = true)\n",
      "\n",
      "+----------+---------+\n",
      "| NAMEASCII|POPEU2013|\n",
      "+----------+---------+\n",
      "|    Berlin|  3375222|\n",
      "|    Madrid|  3207247|\n",
      "|      Rome|  2638842|\n",
      "|     Paris|  2240681|\n",
      "| Bucharest|  2134030|\n",
      "|    Vienna|  1741246|\n",
      "|  Budapest|  1735711|\n",
      "|   Hamburg|  1734272|\n",
      "|    Warsaw|  1724404|\n",
      "| Barcelona|  1611822|\n",
      "|    Munich|  1388308|\n",
      "|     Milan|  1262101|\n",
      "|    Prague|  1243201|\n",
      "|     Sofia|  1213542|\n",
      "|  Brussels|  1174624|\n",
      "|Birmingham|  1088900|\n",
      "| Marseille|  1045805|\n",
      "|   Cologne|  1024373|\n",
      "|    Naples|   959052|\n",
      "|     Turin|   872091|\n",
      "+----------+---------+\n",
      "only showing top 20 rows\n",
      "\n",
      "+----------+---------+\n",
      "|      NAME|POPEU2013|\n",
      "+----------+---------+\n",
      "|    Zurich|   380777|\n",
      "|    Prague|  1243201|\n",
      "|     Sofia|  1213542|\n",
      "|    Vienna|  1741246|\n",
      "|  Brussels|  1174624|\n",
      "|    Berlin|  3375222|\n",
      "|   Hamburg|  1734272|\n",
      "|    Munich|  1388308|\n",
      "|   Cologne|  1024373|\n",
      "| Frankfurt|   687775|\n",
      "| Stuttgart|   597939|\n",
      "|Ddsseldorf|   593682|\n",
      "|      Bonn|   309869|\n",
      "|    Madrid|  3207247|\n",
      "| Barcelona|  1611822|\n",
      "|  Valencia|   792303|\n",
      "|   Seville|   700169|\n",
      "|     Paris|  2240681|\n",
      "| Marseille|  1045805|\n",
      "|    Dublin|   516255|\n",
      "+----------+---------+\n",
      "only showing top 20 rows\n",
      "\n"
     ]
    }
   ],
   "source": [
    "boundries_from_pd.printSchema()\n",
    "\n",
    "df = boundries_from_pd.select(boundries_from_pd.NAMEASCII, \n",
    "                              boundries_from_pd.POPEU2013.cast(IntegerType())\n",
    "                             )\n",
    "\n",
    "df = df.sort(df.POPEU2013.desc())\n",
    "df.show()\n",
    "\n",
    "# SQL Version\n",
    "boundries_from_pd.registerTempTable('boundries')\n",
    "sqlContext.sql(\"SELECT NAME, POPEU2013 FROM boundries\").show()"
   ]
  },
  {
   "cell_type": "code",
   "execution_count": 36,
   "metadata": {
    "collapsed": false,
    "solution2": "hidden"
   },
   "outputs": [
    {
     "data": {
      "text/plain": [
       "<matplotlib.axes._subplots.AxesSubplot at 0x7f9500475790>"
      ]
     },
     "execution_count": 36,
     "metadata": {},
     "output_type": "execute_result"
    },
    {
     "data": {
      "image/png": "[encoded data removed]",
      "text/plain": [
       "<matplotlib.figure.Figure at 0x7f95035b6c90>"
      ]
     },
     "metadata": {},
     "output_type": "display_data"
    }
   ],
   "source": [
    "df = df.toPandas()\n",
    "\n",
    "df.plot.bar(x='NAMEASCII')"
   ]
  },
  {
   "cell_type": "markdown",
   "metadata": {
    "collapsed": false,
    "scrolled": false
   },
   "source": [
    "# Lets look at the POI data next\n",
    "\n"
   ]
  },
  {
   "cell_type": "code",
   "execution_count": 37,
   "metadata": {
    "collapsed": false
   },
   "outputs": [
    {
     "name": "stdout",
     "output_type": "stream",
     "text": [
      "6956\n"
     ]
    }
   ],
   "source": [
    "pois_df = sqlContext.read.json(POIS_PATH)\n",
    "\n",
    "print pois_df.count()\n",
    "rec = pois_df.take(1)[0]\n",
    "pois_df = pois_df.toPandas()\n",
    "pois_df.count()\n",
    "\n",
    "\n",
    "def toWktColumn(coords):\n",
    "    return (Point(coords).wkt)\n",
    "\n",
    "pois_df['wkt'] = pandas.Series(\n",
    "    map(lambda geom: toWktColumn(geom.coordinates), pois_df['geometry']), \n",
    "    index=pois_df.index, dtype='string')\n",
    "\n",
    "pois_df = sqlContext.createDataFrame(pois_df)"
   ]
  },
  {
   "cell_type": "markdown",
   "metadata": {
    "solution2": "hidden",
    "solution2_first": true
   },
   "source": [
    "# Count the number of museums in Zurich\n",
    "\n",
    "## Exercise\n",
    "\n",
    "* Count the number of museums in Zurich\n",
    "HINT: You will need Shapely Spatial Operations\n"
   ]
  },
  {
   "cell_type": "code",
   "execution_count": 38,
   "metadata": {
    "collapsed": false,
    "solution2": "hidden"
   },
   "outputs": [
    {
     "name": "stdout",
     "output_type": "stream",
     "text": [
      "1358\n"
     ]
    },
    {
     "data": {
      "image/svg+xml": [
       "<svg xmlns=\"http://www.w3.org/2000/svg\" xmlns:xlink=\"http://www.w3.org/1999/xlink\" width=\"100.0\" height=\"100.0\" viewBox=\"8.44096254054 47.3131580402 0.190907821406 0.128784319976\" preserveAspectRatio=\"xMinYMin meet\"><g transform=\"matrix(1,0,0,-1,0,94.7551004004)\"><g><path fill-rule=\"evenodd\" fill=\"#66cc99\" stroke=\"#555555\" stroke-width=\"0.00381815642811\" opacity=\"0.6\" d=\"M 8.51073070064,47.4321856996 L 8.5246681998,47.4311641999 L 8.52792424989,47.4326966806 L 8.54355820194,47.4313432 L 8.56083770048,47.4184912002 L 8.56327356287,47.4156632294 L 8.57378618013,47.4113305375 L 8.58770695385,47.407749793 L 8.59636970013,47.4056056999 L 8.594696201,47.3992081997 L 8.59148070168,47.3970187004 L 8.58817119975,47.3957447 L 8.58434520098,47.3918312003 L 8.58305470172,47.3890491999 L 8.58436120054,47.3883292 L 8.5851962018,47.3903277 L 8.5869666988,47.3901596998 L 8.59307370002,47.3856432004 L 8.59720520051,47.3784982 L 8.60363484106,47.3704819749 L 8.61199420077,47.3669092004 L 8.62166820051,47.3599741997 L 8.62479970189,47.3543931997 L 8.6220897007,47.3534011997 L 8.6051131999,47.3536037 L 8.58677770185,47.3528596999 L 8.5864354184,47.352688935 L 8.58451057778,47.3517285918 L 8.56990702022,47.3467946792 L 8.56574596328,47.3467780497 L 8.56250970122,47.3456917005 L 8.56149420162,47.3473436998 L 8.55820569994,47.3507997 L 8.5563412017,47.3521042001 L 8.55120469974,47.3526537002 L 8.55048569934,47.3533747 L 8.54713070159,47.3588337002 L 8.545538288,47.3639849772 L 8.53955331661,47.364938249 L 8.53629265028,47.3521106463 L 8.54340170119,47.3360942003 L 8.53623520009,47.3301472003 L 8.53265970044,47.3278657003 L 8.52974519821,47.3260612002 L 8.52375020113,47.3242416997 L 8.50311869945,47.3202287003 L 8.50062969947,47.3226967 L 8.50062369878,47.3311082 L 8.50116369968,47.3352741999 L 8.50202970008,47.3365517003 L 8.4976237013,47.3420911997 L 8.48689120125,47.3526882002 L 8.48202213556,47.3593225016 L 8.47101420108,47.3615112002 L 8.46426969911,47.3667376998 L 8.46415819949,47.3683702 L 8.46985165658,47.3739106058 L 8.4675942019,47.3735771996 L 8.45054820109,47.3783301999 L 8.44803320059,47.3801996998 L 8.45758720155,47.3836557003 L 8.46734620155,47.3930667002 L 8.46706556474,47.4018697238 L 8.47813170148,47.4038737001 L 8.47724070188,47.4119377002 L 8.4739331988,47.4122277002 L 8.4727222,47.4106867 L 8.46807869985,47.4133762002 L 8.46919819812,47.4169086996 L 8.47785369948,47.4221192001 L 8.48175570114,47.4230121998 L 8.48853519976,47.4226992001 L 8.49021440629,47.4225576846 L 8.48474119998,47.4281771996 L 8.48547469967,47.4310416998 L 8.50146770072,47.4348717001 L 8.51073070064,47.4321856996 z\" /></g></g></svg>"
      ],
      "text/plain": [
       "<shapely.geometry.multipolygon.MultiPolygon at 0x7f95002afa50>"
      ]
     },
     "execution_count": 38,
     "metadata": {},
     "output_type": "execute_result"
    }
   ],
   "source": [
    "pois_df.registerTempTable(\"pois\")\n",
    "museums = sqlContext.sql(\n",
    "    \"SELECT geometry, \\\n",
    "    properties.name, \\\n",
    "    properties.tourism \\\n",
    "    FROM pois WHERE properties.tourism = 'museum'\")\n",
    "print museums.count()\n",
    "\n",
    "# select museums within Zurich\n",
    "zurich = sqlContext.sql(\"SELECT wkt, POPEU2013 \\\n",
    "    FROM boundries WHERE NAME = 'Zurich'\")\n",
    "\n",
    "jsonstr = zurich.toJSON().take(1)[0]\n",
    "jsonobj = json.loads(jsonstr)\n",
    "zurich_boundry = wkt.loads(jsonobj['wkt'])\n",
    "zurich_boundry"
   ]
  },
  {
   "cell_type": "code",
   "execution_count": 39,
   "metadata": {
    "collapsed": false,
    "solution2": "hidden"
   },
   "outputs": [
    {
     "data": {
      "text/plain": [
       "25"
      ]
     },
     "execution_count": 39,
     "metadata": {},
     "output_type": "execute_result"
    }
   ],
   "source": [
    "museums_in_zurich = museums.rdd.filter(lambda r: Point(r['geometry']['coordinates']).within(zurich_boundry))\n",
    "museums_in_zurich.count()"
   ]
  },
  {
   "cell_type": "markdown",
   "metadata": {},
   "source": [
    "# SQL is nice but...\n",
    "\n",
    "Most of the time in Spark SQL you can use Strings (in SQL) to reference columns but there are two cases where  you’ll want to use the Column objects rather than Strings :\n",
    "\n",
    "* In Spark SQL DataFrame columns are allowed to have the same name, they’ll be given unique names inside of Spark SQL, but this means that you can’t reference them with the column name only as this becomes ambiguous.\n",
    "\n",
    "* When you need to manipulate columns using expressions like Adding two columns to each other, Twice the value of this column or even Is the column value larger than 0 ?, you won’t be able to use simple strings and will need the Column reference.\n",
    "\n",
    "* Finally if you need renaming, cast or any other complex feature, you’ll need the Column reference too.\n"
   ]
  },
  {
   "cell_type": "markdown",
   "metadata": {},
   "source": [
    "# Joins, Spatial Predicate, Broadcast Variables, UDFs"
   ]
  },
  {
   "cell_type": "code",
   "execution_count": 40,
   "metadata": {
    "collapsed": false,
    "scrolled": true
   },
   "outputs": [],
   "source": [
    "# Exercise\n",
    "# for each city count the number of museums\n",
    "# and return a DF with:\n",
    "# city_name, museum_count\n",
    "\n",
    "# SQL VErsion\n",
    "# cities_df = sqlContext.sql(\n",
    "#     \"\"\"\n",
    "#     SELECT properties.NAMEASCII AS city_name, \n",
    "#         geometry AS city_geom FROM boundries\n",
    "#     \"\"\")\n",
    "\n",
    "cities_df = boundries_from_pd.select(\n",
    "    (boundries_from_pd.NAMEASCII).alias('city_name'),\n",
    "    (boundries_from_pd.wkt).alias('city_geom'))\n",
    "\n",
    "cities_df.cache()\n",
    "\n",
    "# Create a broadcast variable\n",
    "# Broadcast http://spark.apache.org/docs/latest/programming-guide.html#broadcast-variables\n",
    "# Broadcast variables allow the programmer to keep a read-only variable cached on each machine \n",
    "# rather than shipping a copy of it with tasks. They can be used, for example, to give every node \n",
    "# a copy of a large input dataset in an efficient manner. Spark also attempts to distribute broadcast\n",
    "# variables using efficient broadcast algorithms to reduce communication cost.\n",
    "\n",
    "# Spark actions are executed through a set of stages, separated by distributed “shuffle” \n",
    "# operations. Spark automatically broadcasts the common data needed by tasks within each stage. \n",
    "# The data broadcasted this way is cached in serialized form and deserialized before running each task. \n",
    "# This means that explicitly creating broadcast variables is only useful when tasks across multiple \n",
    "# stages need the same data or when caching the data in deserialized form is important.\n",
    "\n",
    "# Broadcast variables are created from a variable v by calling SparkContext.broadcast(v). The broadcast \n",
    "# variable is a wrapper around v, and its value can be accessed by calling the value method.\n",
    "\n",
    "_cities_df = cities_df.toJSON().collect()[0:3]\n",
    "broadcastCitiesJSON = sc.broadcast(_cities_df)\n",
    "\n",
    "# wkt.loads(json.loads(broadcastCitiesJSON.value[0])['city_geom'])"
   ]
  },
  {
   "cell_type": "code",
   "execution_count": 41,
   "metadata": {
    "collapsed": false
   },
   "outputs": [
    {
     "name": "stdout",
     "output_type": "stream",
     "text": [
      "1358\n",
      "41\n",
      "112\n"
     ]
    }
   ],
   "source": [
    "def get_city_name(poi_geom):\n",
    "    # get an array of dict [(city_name, city_geom)]\n",
    "    cities = map(lambda c: {\n",
    "                    'city_name': json.loads(c)['city_name'],\n",
    "                    'city_wkt': wkt.loads(json.loads(c)['city_geom'])\n",
    "                }, broadcastCitiesJSON.value)\n",
    "\n",
    "    shply_poi = shape(poi_geom.asDict())\n",
    "    city = filter(lambda city: shply_poi.within(city['city_wkt']), cities)\n",
    "    name = None\n",
    "    if city:\n",
    "        name = city[0]['city_name']\n",
    "    return name\n",
    "\n",
    "# http://spark.apache.org/docs/latest/api/python/pyspark.sql.html#pyspark.sql.SQLContext.registerFunction\n",
    "# Registers a python function (including lambda function) as a UDF so it can be used in SQL statements.\n",
    "# In addition to a name and the function itself, the return type can be optionally specified. When the \n",
    "# return type is not given it default to a string and conversion will automatically be done. For any other \n",
    "# return type, the produced object must match the specified type.\n",
    "\n",
    "sqlContext.udf.register(\"get_city_name\", get_city_name, StringType())\n",
    "\n",
    "# http://spark.apache.org/docs/latest/api/python/pyspark.sql.html#pyspark.sql.functions.udf\n",
    "# Creates a Column expression representing a user defined function (UDF).    \n",
    "get_city_name_udf = func.udf(get_city_name, StringType())\n",
    "\n",
    "# SQL VERSION\n",
    "museums_df = sqlContext.sql(\n",
    "     \"SELECT geometry as museum_geom, \\\n",
    "     properties.name as museum_name, \\\n",
    "     get_city_name(geometry) as city_name \\\n",
    "     FROM pois WHERE properties.tourism = 'museum'\")\n",
    "\n",
    "\n",
    "#museums_df = pois_df.select(\n",
    "#    (pois_df.geometry).alias('museum_geom'),\n",
    "#    (pois_df.properties.name).alias('museum_name'),\n",
    "#    (get_city_name_udf(pois_df.geometry).alias('city_name'))\n",
    "#)\n",
    "\n",
    "museums_df.registerTempTable(\"museums\")\n",
    "                       \n",
    "print museums_df.count()\n",
    "print cities_df.count()\n",
    "print museums_df.where(museums_df.city_name.isNotNull()).count()\n"
   ]
  },
  {
   "cell_type": "code",
   "execution_count": 42,
   "metadata": {
    "collapsed": false
   },
   "outputs": [
    {
     "name": "stdout",
     "output_type": "stream",
     "text": [
      "112\n"
     ]
    }
   ],
   "source": [
    "museums_df.cache() # Try without and with\n",
    "print museums_df.where(museums_df.city_name.isNotNull()).count()"
   ]
  },
  {
   "cell_type": "markdown",
   "metadata": {},
   "source": [
    " ## Grouping "
   ]
  },
  {
   "cell_type": "code",
   "execution_count": 43,
   "metadata": {
    "collapsed": false
   },
   "outputs": [],
   "source": [
    "grouped_by_city = museums_df.dropna().groupBy('city_name')"
   ]
  },
  {
   "cell_type": "code",
   "execution_count": 44,
   "metadata": {
    "collapsed": false
   },
   "outputs": [
    {
     "name": "stdout",
     "output_type": "stream",
     "text": [
      "+---------+-----+\n",
      "|city_name|count|\n",
      "+---------+-----+\n",
      "|   Prague|   78|\n",
      "|   Zurich|   25|\n",
      "|    Sofia|    6|\n",
      "+---------+-----+\n",
      "\n"
     ]
    }
   ],
   "source": [
    "grouped_by_city.count().show()"
   ]
  },
  {
   "cell_type": "markdown",
   "metadata": {},
   "source": [
    "## Adding population column\n",
    "Accoring to our algorithm we will have to divide count by the the population to scale it per capita. Lets try to run our algorithm on a subset of the data to get practice for the real deal!"
   ]
  },
  {
   "cell_type": "code",
   "execution_count": 45,
   "metadata": {
    "collapsed": false
   },
   "outputs": [
    {
     "data": {
      "text/plain": [
       "DataFrame[city_name: string, population: int, city_geom: string]"
      ]
     },
     "execution_count": 45,
     "metadata": {},
     "output_type": "execute_result"
    }
   ],
   "source": [
    "# lets recreate the cities DF this time including the population\n",
    "# http://spark.apache.org/docs/latest/api/python/pyspark.sql.html#pyspark.sql.Column.cast\n",
    "# Convert the column into type dataType\n",
    "cities_df = boundries_from_pd.select(\n",
    "    (boundries_from_pd.NAMEASCII).alias('city_name'),\n",
    "    (boundries_from_pd.POPEU2013.cast(IntegerType())).alias('population'),\n",
    "    (boundries_from_pd.wkt).alias('city_geom'))\n",
    "\n",
    "cities_df.cache()\n"
   ]
  },
  {
   "cell_type": "code",
   "execution_count": 46,
   "metadata": {
    "collapsed": false
   },
   "outputs": [
    {
     "name": "stdout",
     "output_type": "stream",
     "text": [
      "root\n",
      " |-- museum_geom: struct (nullable = true)\n",
      " |    |-- coordinates: array (nullable = true)\n",
      " |    |    |-- element: double (containsNull = true)\n",
      " |    |-- type: string (nullable = true)\n",
      " |-- museum_name: string (nullable = true)\n",
      " |-- city_name: string (nullable = true)\n",
      " |-- population: integer (nullable = true)\n",
      " |-- city_geom: string (nullable = true)\n",
      "\n"
     ]
    }
   ],
   "source": [
    "museums_df = museums_df.dropna()\n",
    "\n",
    "# http://spark.apache.org/docs/latest/api/python/pyspark.sql.html#pyspark.sql.DataFrame.join\n",
    "# Joins with another DataFrame, using the given join expression.\n",
    "\n",
    "# The following performs a full outer join between df1 and df2.\n",
    "\n",
    "# Parameters:\n",
    "# other – Right side of the join\n",
    "# on – a string for join column name, a list of column names, , a join expression (Column) or a list of Columns.\n",
    "#      If on is a string or a list of string indicating the name of the join column(s), the column(s) must exist \n",
    "#      on both sides, and this performs an equi-join.\n",
    "# how – str, default ‘inner’. One of inner, outer, left_outer, right_outer, leftsemi.\n",
    "\n",
    "df = museums_df.join(cities_df, museums_df.city_name == cities_df.city_name).select(\n",
    "    museums_df.museum_geom,\n",
    "    museums_df.museum_name,    \n",
    "    museums_df.city_name,\n",
    "    cities_df.population,\n",
    "    cities_df.city_geom\n",
    ")\n",
    "\n",
    "df.printSchema( )\n",
    "# Love Spark!\n",
    "\n",
    "grouped_by_city = df.groupBy('city_name', 'population')\n",
    "grouped_by_city = grouped_by_city.count()\n",
    "            "
   ]
  },
  {
   "cell_type": "markdown",
   "metadata": {},
   "source": [
    "## Calculating the score"
   ]
  },
  {
   "cell_type": "code",
   "execution_count": 47,
   "metadata": {
    "collapsed": false
   },
   "outputs": [],
   "source": [
    "# http://spark.apache.org/docs/latest/api/python/pyspark.sql.html#pyspark.sql.DataFrame.withColumnRenamed\n",
    "grouped_by_city = grouped_by_city.withColumnRenamed('count', 'museum_count')\n",
    "\n",
    "cultural_weight_lookup = { 'museum': 1, 'gallery': 2, 'artwork': 3 }\n",
    "\n",
    "# http://spark.apache.org/docs/latest/api/python/pyspark.sql.html#pyspark.sql.DataFrame.withColumn\n",
    "grouped_by_city = grouped_by_city.withColumn('cultural_score', (\n",
    "                            grouped_by_city.museum_count/grouped_by_city.population\n",
    "                           )*10000*cultural_weight_lookup['museum'])"
   ]
  },
  {
   "cell_type": "code",
   "execution_count": 48,
   "metadata": {
    "collapsed": false
   },
   "outputs": [
    {
     "name": "stdout",
     "output_type": "stream",
     "text": [
      "+---------+----------+------------+-------------------+\n",
      "|city_name|population|museum_count|     cultural_score|\n",
      "+---------+----------+------------+-------------------+\n",
      "|   Prague|   1243201|          78| 0.6274126227375943|\n",
      "|   Zurich|    380777|          25| 0.6565522602468111|\n",
      "|    Sofia|   1213542|           6|0.04944204650518895|\n",
      "+---------+----------+------------+-------------------+\n",
      "\n"
     ]
    }
   ],
   "source": [
    "grouped_by_city.show()"
   ]
  },
  {
   "cell_type": "code",
   "execution_count": 49,
   "metadata": {
    "collapsed": false
   },
   "outputs": [
    {
     "data": {
      "text/plain": [
       "2"
      ]
     },
     "execution_count": 49,
     "metadata": {},
     "output_type": "execute_result"
    }
   ],
   "source": [
    "# understanding de/serialization\n",
    "\n",
    "from pyspark.rdd import RDD\n",
    "dl = [\n",
    "    (u'2', {u'director': u'David Lean'}), \n",
    "    (u'7', {u'director': u'Andrew Dominik'})\n",
    "]\n",
    "\n",
    "dl_rdd = sc.parallelize(dl)\n",
    "tmp = dl_rdd._to_java_object_rdd()\n",
    "tmp2 = sc._jvm.SerDe.javaToPython(tmp)\n",
    "t = RDD(tmp2, sc)\n",
    "t.count()\n",
    "\n",
    "tmp = t._to_java_object_rdd()\n",
    "tmp2 = sc._jvm.SerDe.javaToPython(tmp)\n",
    "t = RDD(tmp2, sc)\n",
    "t.count() "
   ]
  },
  {
   "cell_type": "markdown",
   "metadata": {},
   "source": [
    "# Spatial Spark\n",
    "\n",
    "SpatialSpark aims to provide efficient spatial operations using Apache Spark. It can be used as a Spark library for spatial extension as well as a standalone application to process large scale spatial join operations.\n",
    "\n",
    "SpatialSpark has been compiled and tested on Spark 1.6.1. For geometry operations and data structures for indexes, well known JTS library is used.\n",
    "\n",
    "## Spatial Partition\n",
    "\n",
    "Generate a spatial partition from input dataset, currently Fixed-Grid Partition (FGP), Binary-Split Partition (BSP) and Sort-Tile Partition (STP) are supported.\n",
    "\n",
    "## Spatial Range Query\n",
    "\n",
    "Spatial range query includes both indexed and non-indexed query. For non-indexed query, a full scan is performed on the dataset and returns filtered results. "
   ]
  },
  {
   "cell_type": "code",
   "execution_count": null,
   "metadata": {
    "collapsed": false
   },
   "outputs": [],
   "source": [
    "\n",
    "print sc._jsc"
   ]
  },
  {
   "cell_type": "code",
   "execution_count": null,
   "metadata": {
    "collapsed": false
   },
   "outputs": [],
   "source": [
    "from ast import literal_eval as make_tuple\n",
    "print \"Java Spark context version:\", sc._jsc.version()\n",
    "spatialspark = sc._jvm.spatialspark\n",
    "\n",
    "rectangleA = Polygon([(0, 0), (0, 10), (10, 10), (10, 0)])\n",
    "rectangleB = Polygon([(-4, -4), (-4, 4), (4, 4), (4, -4)])\n",
    "rectangleC = Polygon([(7, 7), (7, 8), (8, 8), (8, 7)])\n",
    "pointD = Point((-1, -1))\n",
    "\n",
    "def geomABWithId():\n",
    "  return sc.parallelize([\n",
    "    (0L, rectangleA.wkt),\n",
    "    (1L, rectangleB.wkt)\n",
    "  ])\n",
    "\n",
    "def geomCWithId():\n",
    "  return sc.parallelize([\n",
    "    (0L, rectangleC.wkt)\n",
    "  ])\n",
    "\n",
    "def geomABCWithId():\n",
    "  return sc.parallelize([\n",
    "  (0L, rectangleA.wkt),\n",
    "  (1L, rectangleB.wkt),\n",
    "  (2L, rectangleC.wkt)])\n",
    "\n",
    "def geomDWithId():\n",
    "  return sc.parallelize([\n",
    "    (0L, pointD.wkt)\n",
    "  ])\n",
    "\n",
    "\n",
    "dfAB = sqlContext.createDataFrame(geomABWithId(), ['id', 'wkt'])\n",
    "dfABC = sqlContext.createDataFrame(geomABCWithId(), ['id', 'wkt'])\n",
    "dfC = sqlContext.createDataFrame(geomCWithId(), ['id', 'wkt'])\n",
    "dfD = sqlContext.createDataFrame(geomDWithId(), ['id', 'wkt'])\n",
    "# Supported Operators: Within, WithinD, Contains, Intersects, Overlaps, NearestD\n",
    "SpatialOperator      = spatialspark.operator.SpatialOperator \n",
    "BroadcastSpatialJoin = spatialspark.join.BroadcastSpatialJoin\n",
    "\n",
    "joinRDD = BroadcastSpatialJoin.apply(sc._jsc, dfABC._jdf, dfAB._jdf, SpatialOperator.Within(), 0.0)\n",
    "\n",
    "joinRDD.count()"
   ]
  },
  {
   "cell_type": "code",
   "execution_count": null,
   "metadata": {
    "collapsed": false
   },
   "outputs": [],
   "source": [
    "#results = joinRDD.collect()\n",
    "#map(lambda result: make_tuple(result.toString()), results)\n",
    "\n",
    "# [(0, 0), (1, 1), (2, 0)] read as:\n",
    "# ID 0 is within 0\n",
    "# ID 1 is within 1\n",
    "# ID 2 is within 0"
   ]
  },
  {
   "cell_type": "code",
   "execution_count": null,
   "metadata": {
    "collapsed": true
   },
   "outputs": [],
   "source": [
    "# Exercise: Find out if geometry with ID 2 overlaps geometry with ID 1"
   ]
  },
  {
   "cell_type": "markdown",
   "metadata": {
    "collapsed": true
   },
   "source": [
    "# Perform Analysis on All Features and All Cities\n"
   ]
  },
  {
   "cell_type": "code",
   "execution_count": null,
   "metadata": {
    "collapsed": false
   },
   "outputs": [],
   "source": [
    "from pyspark.sql.functions import monotonically_increasing_id\n",
    "\n",
    "# create dataframe with (id, geometry) for POIs\n",
    "# 1. Add and ID Column to POIs\n",
    "\n",
    "pois_df = pois_df.withColumn(\"id\", monotonically_increasing_id())\n",
    "pois_tuple_id_wkt = pois_df.select(pois_df.id, pois_df.wkt)\n",
    "pois_tuple_id_wkt.show()\n",
    "pois_tuple_id_wkt.printSchema()\n",
    "print pois_tuple_id_wkt.count()"
   ]
  },
  {
   "cell_type": "code",
   "execution_count": null,
   "metadata": {
    "collapsed": false
   },
   "outputs": [],
   "source": [
    "boundries_from_pd = boundries_from_pd.withColumn(\"id\", monotonically_increasing_id())\n",
    "boundries_tuple_id_wkt = boundries_from_pd.select(boundries_from_pd.id, boundries_from_pd.wkt)\n",
    "boundries_tuple_id_wkt.printSchema()\n",
    "print boundries_from_pd.count()\n",
    "boundries_tuple_id_wkt.show()\n",
    "wkt.loads(boundries_tuple_id_wkt.take(1)[0].wkt)"
   ]
  },
  {
   "cell_type": "code",
   "execution_count": null,
   "metadata": {
    "collapsed": false
   },
   "outputs": [],
   "source": [
    "joinPoiBdryRDD = BroadcastSpatialJoin.apply(sc._jsc, \n",
    "                                            pois_tuple_id_wkt._jdf, \n",
    "                                            boundries_tuple_id_wkt._jdf, \n",
    "                                            SpatialOperator.Within(), \n",
    "                                            0.0)"
   ]
  },
  {
   "cell_type": "code",
   "execution_count": null,
   "metadata": {
    "collapsed": false
   },
   "outputs": [],
   "source": [
    "print joinPoiBdryRDD.count()\n",
    "\n",
    "joinResults = map(lambda result: make_tuple(result.toString()), joinPoiBdryRDD.collect())\n"
   ]
  },
  {
   "cell_type": "code",
   "execution_count": null,
   "metadata": {
    "collapsed": false
   },
   "outputs": [],
   "source": [
    "print pois_tuple_id_wkt.count()\n",
    "print boundries_tuple_id_wkt.count()\n",
    "print joinResults[695]"
   ]
  },
  {
   "cell_type": "code",
   "execution_count": null,
   "metadata": {
    "collapsed": false
   },
   "outputs": [],
   "source": [
    "# make the results a DF\n",
    "rddResult = sc.parallelize(joinResults)\n",
    "df = sqlContext.createDataFrame(rddResult, [\"poi_id\", \"boundry_id\"])\n",
    "df.printSchema()"
   ]
  },
  {
   "cell_type": "code",
   "execution_count": null,
   "metadata": {
    "collapsed": false
   },
   "outputs": [],
   "source": [
    "# Do a join with poi df and bdry df\n",
    "df_with_pois = df.join(pois_df, df.poi_id == pois_df.id).select(\n",
    "    df.poi_id,\n",
    "    df.boundry_id,\n",
    "    pois_df.properties.alias(\"poi_properties\"),    \n",
    "    pois_df.wkt.alias(\"poi_wkt\")    \n",
    "\n",
    ")\n"
   ]
  },
  {
   "cell_type": "code",
   "execution_count": null,
   "metadata": {
    "collapsed": false
   },
   "outputs": [],
   "source": [
    "df_with_pois.columns"
   ]
  },
  {
   "cell_type": "code",
   "execution_count": null,
   "metadata": {
    "collapsed": false
   },
   "outputs": [],
   "source": [
    "df_with_pois_bdrys = df_with_pois.join(boundries_from_pd, \n",
    "                                       df_with_pois.boundry_id == boundries_from_pd.id).select(\n",
    "    df_with_pois.poi_id,\n",
    "    df_with_pois.boundry_id,\n",
    "    df_with_pois.poi_properties,\n",
    "    df_with_pois.poi_wkt,\n",
    "    boundries_from_pd.wkt.alias(\"boundry_wkt\"),\n",
    "    boundries_from_pd.NAMEASCII.alias(\"city_name\"),\n",
    "    boundries_from_pd.POPEU2013.alias(\"population\")    \n",
    ")"
   ]
  },
  {
   "cell_type": "code",
   "execution_count": null,
   "metadata": {
    "collapsed": false
   },
   "outputs": [],
   "source": [
    "df_with_pois_bdrys.columns"
   ]
  },
  {
   "cell_type": "code",
   "execution_count": null,
   "metadata": {
    "collapsed": false
   },
   "outputs": [],
   "source": [
    "df_with_pois_bdrys.cache()\n",
    "df_with_pois_bdrys.count()"
   ]
  },
  {
   "cell_type": "code",
   "execution_count": null,
   "metadata": {
    "collapsed": false,
    "scrolled": true
   },
   "outputs": [],
   "source": [
    "df_with_pois_bdrys.show()"
   ]
  },
  {
   "cell_type": "code",
   "execution_count": null,
   "metadata": {
    "collapsed": false
   },
   "outputs": [],
   "source": [
    "rec = df_with_pois_bdrys.take(1)[0]"
   ]
  },
  {
   "cell_type": "code",
   "execution_count": null,
   "metadata": {
    "collapsed": false
   },
   "outputs": [],
   "source": [
    "print rec.poi_properties.amenity or rec.poi_properties.tourism"
   ]
  },
  {
   "cell_type": "code",
   "execution_count": null,
   "metadata": {
    "collapsed": false
   },
   "outputs": [],
   "source": [
    "\n",
    "df_with_pois_bdrys = df_with_pois_bdrys.withColumn(\n",
    "        'tourism', df_with_pois_bdrys.poi_properties.tourism\n",
    "    ).withColumn(\n",
    "        'amenity', df_with_pois_bdrys.poi_properties.amenity)\n",
    "\n",
    "df_with_pois_bdrys.show()"
   ]
  },
  {
   "cell_type": "code",
   "execution_count": null,
   "metadata": {
    "collapsed": false
   },
   "outputs": [],
   "source": [
    "# Create an expression for a column that calculates the score per record\n",
    "\n",
    "# df_with_pois_bdrys.groupby(\"poi_properties.touris\")\n",
    "\n",
    "df = df_with_pois_bdrys.select('*', func.coalesce(\n",
    "        df_with_pois_bdrys.poi_properties.tourism, df_with_pois_bdrys.poi_properties.amenity\n",
    "    ).alias(\"location_type\")).groupby('boundry_id', 'city_name', 'location_type', 'population').count()"
   ]
  },
  {
   "cell_type": "code",
   "execution_count": null,
   "metadata": {
    "collapsed": false,
    "scrolled": false
   },
   "outputs": [],
   "source": [
    "df.show()"
   ]
  },
  {
   "cell_type": "code",
   "execution_count": null,
   "metadata": {
    "collapsed": false
   },
   "outputs": [],
   "source": [
    "def get_cultural_score(location_type, count, population):\n",
    "    cultural_weight_lookup = { u'museum': 1.0, u'arts_centre': 2.0, u'theatre': 3.0, u'gallery': 4.0, u'artwork': 5.0 }\n",
    "    wgt = cultural_weight_lookup.get(location_type, 0.0)\n",
    "    return float((wgt* float(count) * 100000)/float(population))\n",
    "\n",
    "sqlContext.registerFunction(\"get_cultural_score\", get_cultural_score, FloatType())\n",
    "\n",
    "# score_udf = func.udf(get_cultural_score, FloatType())"
   ]
  },
  {
   "cell_type": "code",
   "execution_count": null,
   "metadata": {
    "collapsed": false
   },
   "outputs": [],
   "source": [
    "# score_df = df.select(df.boundry_id, \n",
    "#           df.city_name, \n",
    "#           df.population,\n",
    "#           df.location_type,\n",
    "#           df.count,\n",
    "#           score_udf(df.location_type, df.count, df.population).alias('cultural_score')\n",
    "#          )"
   ]
  },
  {
   "cell_type": "code",
   "execution_count": null,
   "metadata": {
    "collapsed": false
   },
   "outputs": [],
   "source": [
    "df.registerTempTable(\"cultural_score\")\n",
    "\n",
    "score_df = sqlContext.sql(\n",
    "    \"SELECT boundry_id, \\\n",
    "        city_name, \\\n",
    "        location_type, \\\n",
    "        population, \\\n",
    "        count, get_cultural_score(location_type, count, population) as score \\\n",
    "    FROM cultural_score\")"
   ]
  },
  {
   "cell_type": "code",
   "execution_count": null,
   "metadata": {
    "collapsed": false
   },
   "outputs": [],
   "source": [
    "score_df.sort(score_df.city_name.asc()).show()\n",
    "# score_df.show()"
   ]
  },
  {
   "cell_type": "code",
   "execution_count": null,
   "metadata": {
    "collapsed": false
   },
   "outputs": [],
   "source": [
    "df = score_df.groupBy(\"boundry_id\", \"city_name\", \"population\").agg(func.sum(score_df.score)).sort(\"city_name\")"
   ]
  },
  {
   "cell_type": "code",
   "execution_count": null,
   "metadata": {
    "collapsed": false
   },
   "outputs": [],
   "source": [
    "df.show()"
   ]
  },
  {
   "cell_type": "code",
   "execution_count": null,
   "metadata": {
    "collapsed": false
   },
   "outputs": [],
   "source": [
    "df= df.withColumnRenamed(\"sum(score)\",\"final_score\")"
   ]
  },
  {
   "cell_type": "code",
   "execution_count": null,
   "metadata": {
    "collapsed": false
   },
   "outputs": [],
   "source": [
    "df.show()"
   ]
  },
  {
   "cell_type": "code",
   "execution_count": null,
   "metadata": {
    "collapsed": false
   },
   "outputs": [],
   "source": [
    "pd = df.toPandas()\n",
    "pd.sort_values(\"final_score\", ascending=False)"
   ]
  },
  {
   "cell_type": "code",
   "execution_count": null,
   "metadata": {
    "collapsed": false
   },
   "outputs": [],
   "source": [
    "import folium\n",
    "map_osm = folium.Map(location=[47.19094, 11.98566], \n",
    "    tiles='Stamen Toner',\n",
    "    zoom_start=6)\n",
    "map_osm"
   ]
  },
  {
   "cell_type": "code",
   "execution_count": null,
   "metadata": {
    "collapsed": false
   },
   "outputs": [],
   "source": [
    "pd_df = df_with_pois_bdrys.toPandas()\n",
    "pd_df.head(2)\n",
    "\n",
    "pd_df = pd_df[['boundry_id', 'boundry_wkt', 'city_name', 'population']]\n",
    "pd_df = pd_df.drop_duplicates()\n",
    "\n",
    "geometry = [wkt.loads(boundry_wkt) for boundry_wkt in pd_df.boundry_wkt]\n",
    "\n",
    "geodf = GeoDataFrame(pd_df, geometry=geometry)\n",
    "\n",
    "geodf.head(2)\n",
    "\n",
    "scores = pd\n",
    "\n",
    "scores.head()\n",
    "scores_merged_df=pandas.DataFrame.merge(geodf, scores, on='boundry_id')\n",
    "\n",
    "scores_merged_df.head(1)\n",
    "geo_scores_merged = GeoDataFrame(scores_merged_df)\n",
    "\n",
    "geo_scores_merged\n",
    "\n",
    "import folium\n",
    "map_osm = folium.Map(location=[47.19094, 11.98566], \n",
    "    tiles='Mapbox Bright',\n",
    "    zoom_start=6)\n",
    "\n",
    "map_osm.choropleth(geo_str=geo_scores_merged.to_json(),\n",
    "              data=geo_scores_merged,\n",
    "              columns=['city_name_x', 'final_score'],\n",
    "              fill_color='BuPu',\n",
    "              key_on='properties.city_name_x')\n",
    "map_osm"
   ]
  },
  {
   "cell_type": "code",
   "execution_count": null,
   "metadata": {
    "collapsed": true
   },
   "outputs": [],
   "source": [
    "sc.stop()"
   ]
  },
  {
   "cell_type": "code",
   "execution_count": null,
   "metadata": {
    "collapsed": true
   },
   "outputs": [],
   "source": []
  }
 ],
 "metadata": {
  "kernelspec": {
   "display_name": "Python 2",
   "language": "python",
   "name": "python2"
  },
  "language_info": {
   "codemirror_mode": {
    "name": "ipython",
    "version": 2
   },
   "file_extension": ".py",
   "mimetype": "text/x-python",
   "name": "python",
   "nbconvert_exporter": "python",
   "pygments_lexer": "ipython2",
   "version": "2.7.6"
  },
  "toc": {
   "toc_cell": true,
   "toc_number_sections": true,
   "toc_section_display": "block",
   "toc_threshold": 6,
   "toc_window_display": true
  },
  "toc_position": {
   "height": "594px",
   "left": "1531.83px",
   "right": "20px",
   "top": "158px",
   "width": "327px"
  },
  "widgets": {
   "state": {},
   "version": "1.1.2"
  }
 },
 "nbformat": 4,
 "nbformat_minor": 0
}
